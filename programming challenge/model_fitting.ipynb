{
 "cells": [
  {
   "cell_type": "markdown",
   "metadata": {},
   "source": [
    "encoding: utf-8\n",
    "\n",
    "ref: https://developer.ibm.com/zh/tutorials/learn-classification-algorithms-using-python-and-scikit-learn/\n",
    "\n",
    "ref: https://www.jianshu.com/p/8767ef42ee47\n",
    "\n",
    "ref: https://qastack.cn/stats/52274/how-to-choose-a-predictive-model-after-k-fold-cross-validation"
   ]
  },
  {
   "cell_type": "code",
   "execution_count": 27,
   "metadata": {},
   "outputs": [],
   "source": [
    "import numpy as np\n",
    "import matplotlib.pyplot as plt\n",
    "import pandas as pd\n",
    "from scipy import interp\n",
    "from itertools import cycle\n",
    "from sklearn import svm, datasets\n",
    "from sklearn.metrics import roc_curve, auc\n",
    "from sklearn.model_selection import StratifiedKFold\n",
    "from sklearn.linear_model import LogisticRegression\n",
    "from sklearn.metrics import accuracy_score\n",
    "from sklearn.neighbors import KNeighborsClassifier\n",
    "from sklearn.svm import SVC\n",
    "from sklearn.ensemble import RandomForestClassifier\n",
    "from sklearn.ensemble import AdaBoostClassifier\n",
    "from sklearn.tree import DecisionTreeClassifier\n",
    "import codecs"
   ]
  },
  {
   "cell_type": "code",
   "execution_count": 28,
   "metadata": {},
   "outputs": [
    {
     "data": {
      "text/html": [
       "<div>\n",
       "<style scoped>\n",
       "    .dataframe tbody tr th:only-of-type {\n",
       "        vertical-align: middle;\n",
       "    }\n",
       "\n",
       "    .dataframe tbody tr th {\n",
       "        vertical-align: top;\n",
       "    }\n",
       "\n",
       "    .dataframe thead th {\n",
       "        text-align: right;\n",
       "    }\n",
       "</style>\n",
       "<table border=\"1\" class=\"dataframe\">\n",
       "  <thead>\n",
       "    <tr style=\"text-align: right;\">\n",
       "      <th></th>\n",
       "      <th>y</th>\n",
       "      <th>x1</th>\n",
       "      <th>x2</th>\n",
       "      <th>x3</th>\n",
       "      <th>x4</th>\n",
       "      <th>x5</th>\n",
       "      <th>x7</th>\n",
       "      <th>x8</th>\n",
       "      <th>x9</th>\n",
       "      <th>x10</th>\n",
       "      <th>x6_B</th>\n",
       "      <th>x6_C</th>\n",
       "      <th>x6_D</th>\n",
       "      <th>x6_E</th>\n",
       "      <th>x6_F</th>\n",
       "      <th>x6_Fx</th>\n",
       "    </tr>\n",
       "  </thead>\n",
       "  <tbody>\n",
       "    <tr>\n",
       "      <th>0</th>\n",
       "      <td>1</td>\n",
       "      <td>-0.573731</td>\n",
       "      <td>-0.648684</td>\n",
       "      <td>1.007316</td>\n",
       "      <td>-0.749812</td>\n",
       "      <td>0.0</td>\n",
       "      <td>-1.244095</td>\n",
       "      <td>0.328232</td>\n",
       "      <td>-0.679849</td>\n",
       "      <td>0.220437</td>\n",
       "      <td>0</td>\n",
       "      <td>0</td>\n",
       "      <td>0</td>\n",
       "      <td>0</td>\n",
       "      <td>1</td>\n",
       "      <td>0</td>\n",
       "    </tr>\n",
       "    <tr>\n",
       "      <th>1</th>\n",
       "      <td>1</td>\n",
       "      <td>0.301589</td>\n",
       "      <td>-0.516504</td>\n",
       "      <td>1.132950</td>\n",
       "      <td>-1.284691</td>\n",
       "      <td>0.0</td>\n",
       "      <td>-1.160686</td>\n",
       "      <td>-1.059290</td>\n",
       "      <td>-2.063638</td>\n",
       "      <td>0.581299</td>\n",
       "      <td>0</td>\n",
       "      <td>0</td>\n",
       "      <td>0</td>\n",
       "      <td>0</td>\n",
       "      <td>1</td>\n",
       "      <td>0</td>\n",
       "    </tr>\n",
       "    <tr>\n",
       "      <th>2</th>\n",
       "      <td>0</td>\n",
       "      <td>1.346649</td>\n",
       "      <td>-0.472425</td>\n",
       "      <td>1.338934</td>\n",
       "      <td>-1.362361</td>\n",
       "      <td>0.0</td>\n",
       "      <td>0.762559</td>\n",
       "      <td>-0.540420</td>\n",
       "      <td>-0.340160</td>\n",
       "      <td>0.740294</td>\n",
       "      <td>0</td>\n",
       "      <td>0</td>\n",
       "      <td>0</td>\n",
       "      <td>0</td>\n",
       "      <td>1</td>\n",
       "      <td>0</td>\n",
       "    </tr>\n",
       "    <tr>\n",
       "      <th>3</th>\n",
       "      <td>0</td>\n",
       "      <td>-1.312901</td>\n",
       "      <td>0.062985</td>\n",
       "      <td>1.041571</td>\n",
       "      <td>-1.206000</td>\n",
       "      <td>0.0</td>\n",
       "      <td>1.457944</td>\n",
       "      <td>-0.192881</td>\n",
       "      <td>1.699600</td>\n",
       "      <td>-1.401193</td>\n",
       "      <td>0</td>\n",
       "      <td>0</td>\n",
       "      <td>0</td>\n",
       "      <td>0</td>\n",
       "      <td>1</td>\n",
       "      <td>0</td>\n",
       "    </tr>\n",
       "    <tr>\n",
       "      <th>4</th>\n",
       "      <td>1</td>\n",
       "      <td>1.130095</td>\n",
       "      <td>-1.267077</td>\n",
       "      <td>1.052334</td>\n",
       "      <td>-0.922978</td>\n",
       "      <td>0.0</td>\n",
       "      <td>-0.253463</td>\n",
       "      <td>-1.352880</td>\n",
       "      <td>-0.295863</td>\n",
       "      <td>0.903165</td>\n",
       "      <td>0</td>\n",
       "      <td>0</td>\n",
       "      <td>0</td>\n",
       "      <td>0</td>\n",
       "      <td>1</td>\n",
       "      <td>0</td>\n",
       "    </tr>\n",
       "  </tbody>\n",
       "</table>\n",
       "</div>"
      ],
      "text/plain": [
       "   y        x1        x2        x3        x4   x5        x7        x8  \\\n",
       "0  1 -0.573731 -0.648684  1.007316 -0.749812  0.0 -1.244095  0.328232   \n",
       "1  1  0.301589 -0.516504  1.132950 -1.284691  0.0 -1.160686 -1.059290   \n",
       "2  0  1.346649 -0.472425  1.338934 -1.362361  0.0  0.762559 -0.540420   \n",
       "3  0 -1.312901  0.062985  1.041571 -1.206000  0.0  1.457944 -0.192881   \n",
       "4  1  1.130095 -1.267077  1.052334 -0.922978  0.0 -0.253463 -1.352880   \n",
       "\n",
       "         x9       x10  x6_B  x6_C  x6_D  x6_E  x6_F  x6_Fx  \n",
       "0 -0.679849  0.220437     0     0     0     0     1      0  \n",
       "1 -2.063638  0.581299     0     0     0     0     1      0  \n",
       "2 -0.340160  0.740294     0     0     0     0     1      0  \n",
       "3  1.699600 -1.401193     0     0     0     0     1      0  \n",
       "4 -0.295863  0.903165     0     0     0     0     1      0  "
      ]
     },
     "execution_count": 28,
     "metadata": {},
     "output_type": "execute_result"
    }
   ],
   "source": [
    "# I/O training data\n",
    "df = pd.read_csv('prepro_result.csv')\n",
    "df.head()"
   ]
  },
  {
   "cell_type": "markdown",
   "metadata": {},
   "source": [
    "## Cross-Validation"
   ]
  },
  {
   "cell_type": "code",
   "execution_count": 29,
   "metadata": {},
   "outputs": [],
   "source": [
    "# split into 10-folds\n",
    "cv = StratifiedKFold(n_splits=10)\n",
    "\n",
    "# features matrix X\n",
    "X = df.drop(['y'],axis=1)\n",
    "# labels vector y\n",
    "y = df['y']"
   ]
  },
  {
   "cell_type": "code",
   "execution_count": 30,
   "metadata": {},
   "outputs": [],
   "source": [
    "def train_and_test(classifier, cv=cv, X=X, y=y):\n",
    "    \"\"\"\n",
    "    Run classifier with cross-validation and compute accuracy\n",
    "    \"\"\"\n",
    "    \n",
    "    accuracy_list = []\n",
    "    \n",
    "    for train_index, test_index in cv.split(X, y):\n",
    "        # train and predict\n",
    "        X_train, X_test = X.iloc[train_index], X.iloc[test_index]\n",
    "        y_train, y_test = y.iloc[train_index], y.iloc[test_index]\n",
    "        y_pred = classifier.fit(X_train, y_train).predict(X_test)\n",
    "        \n",
    "        # compute accuracy\n",
    "        #print(accuracy_score(y_test, y_pred))\n",
    "        accuracy_list.append(accuracy_score(y_test, y_pred))\n",
    "        \n",
    "    return np.mean(accuracy_list)"
   ]
  },
  {
   "cell_type": "code",
   "execution_count": 31,
   "metadata": {},
   "outputs": [
    {
     "name": "stdout",
     "output_type": "stream",
     "text": [
      "0.8019999999999999\n"
     ]
    }
   ],
   "source": [
    "# logistic regression\n",
    "lr_classifier = LogisticRegression(random_state=0, multi_class='auto', solver='lbfgs', max_iter=1000)\n",
    "lr_accuracy = train_and_test(lr_classifier)\n",
    "print(lr_accuracy)"
   ]
  },
  {
   "cell_type": "code",
   "execution_count": 32,
   "metadata": {},
   "outputs": [
    {
     "name": "stdout",
     "output_type": "stream",
     "text": [
      "0.8099999999999999\n"
     ]
    }
   ],
   "source": [
    "# KNN\n",
    "knn_classifier = KNeighborsClassifier(n_neighbors=5, metric='minkowski', p=2)\n",
    "knn_accuracy = train_and_test(knn_classifier)\n",
    "print(knn_accuracy)"
   ]
  },
  {
   "cell_type": "code",
   "execution_count": 33,
   "metadata": {},
   "outputs": [
    {
     "name": "stdout",
     "output_type": "stream",
     "text": [
      "0.8560000000000001\n"
     ]
    }
   ],
   "source": [
    "# SVM\n",
    "svm_classifier = SVC(kernel='rbf', gamma='auto')\n",
    "svm_accuracy = train_and_test(svm_classifier)\n",
    "print(svm_accuracy)"
   ]
  },
  {
   "cell_type": "code",
   "execution_count": 34,
   "metadata": {},
   "outputs": [
    {
     "name": "stdout",
     "output_type": "stream",
     "text": [
      "0.859\n"
     ]
    }
   ],
   "source": [
    "# Random Forest\n",
    "# apply cross-validation instead of using oob argument\n",
    "rf_classifier = RandomForestClassifier(n_estimators=300, random_state=0)\n",
    "rf_accuracy = train_and_test(rf_classifier)\n",
    "print(rf_accuracy)"
   ]
  },
  {
   "cell_type": "code",
   "execution_count": 35,
   "metadata": {},
   "outputs": [],
   "source": [
    "def train_and_test_boost(real_classifier, discrete_classifier, cv=cv, X=X, y=y):\n",
    "    \"\"\"\n",
    "    Run boosted classifier with cross-validation and compute accuracy\n",
    "    \"\"\"\n",
    "    # storing accuracy of 10 folds\n",
    "    real_accuracy_list = []\n",
    "    discrete_accuracy_list = []\n",
    "\n",
    "    for train_index, test_index in cv.split(X, y):\n",
    "        # split dataset\n",
    "        X_train, X_test = X.iloc[train_index], X.iloc[test_index]\n",
    "        y_train, y_test = y.iloc[train_index], y.iloc[test_index]\n",
    "\n",
    "        # training\n",
    "        real_classifier.fit(X_train, y_train)\n",
    "        discrete_classifier.fit(X_train, y_train)\n",
    "\n",
    "        # storing the accuracy after each boosting step\n",
    "        # should show an increasing trend\n",
    "        # define accuracy of this fold model by the last entry\n",
    "        real_test_accuracy = []\n",
    "        discrete_test_accuracy = []\n",
    "\n",
    "        for real_test_predict, discrete_train_predict in zip(\n",
    "            real_classifier.staged_predict(X_test), discrete_classifier.staged_predict(X_test)):\n",
    "            real_test_accuracy.append(accuracy_score(real_test_predict, y_test))\n",
    "            discrete_test_accuracy.append(accuracy_score(discrete_train_predict, y_test))\n",
    "        \n",
    "        real_accuracy_list.append(real_test_accuracy[-1])\n",
    "        discrete_accuracy_list.append(discrete_test_accuracy[-1])\n",
    "    \n",
    "    return np.mean(real_accuracy_list), np.mean(discrete_accuracy_list)"
   ]
  },
  {
   "cell_type": "code",
   "execution_count": 36,
   "metadata": {},
   "outputs": [
    {
     "name": "stdout",
     "output_type": "stream",
     "text": [
      "0.8219999999999998\n"
     ]
    }
   ],
   "source": [
    "# decision tree\n",
    "dt_classifier = DecisionTreeClassifier(max_depth=4)\n",
    "dt_accuracy = train_and_test(dt_classifier)\n",
    "print(dt_accuracy)"
   ]
  },
  {
   "cell_type": "code",
   "execution_count": 37,
   "metadata": {},
   "outputs": [
    {
     "name": "stdout",
     "output_type": "stream",
     "text": [
      "(0.8390000000000001, 0.849)\n"
     ]
    }
   ],
   "source": [
    "# adaboosted decision tree\n",
    "bdt_real = AdaBoostClassifier(\n",
    "    dt_classifier,\n",
    "    n_estimators=500,\n",
    "    learning_rate=0.8,\n",
    "    random_state=0)\n",
    "\n",
    "bdt_discrete = AdaBoostClassifier(\n",
    "    dt_classifier,\n",
    "    n_estimators=500,\n",
    "    learning_rate=0.6,\n",
    "    algorithm=\"SAMME\",\n",
    "    random_state=0)\n",
    "\n",
    "print(train_and_test_boost(bdt_real, bdt_discrete))"
   ]
  },
  {
   "cell_type": "markdown",
   "metadata": {},
   "source": [
    "## Train final model"
   ]
  },
  {
   "cell_type": "code",
   "execution_count": 38,
   "metadata": {},
   "outputs": [
    {
     "data": {
      "text/plain": [
       "SVC(C=1.0, break_ties=False, cache_size=200, class_weight=None, coef0=0.0,\n",
       "    decision_function_shape='ovr', degree=3, gamma='auto', kernel='rbf',\n",
       "    max_iter=-1, probability=False, random_state=None, shrinking=True,\n",
       "    tol=0.001, verbose=False)"
      ]
     },
     "execution_count": 38,
     "metadata": {},
     "output_type": "execute_result"
    }
   ],
   "source": [
    "svm_classifier.fit(X,y)"
   ]
  },
  {
   "cell_type": "code",
   "execution_count": 39,
   "metadata": {},
   "outputs": [
    {
     "data": {
      "text/plain": [
       "RandomForestClassifier(bootstrap=True, ccp_alpha=0.0, class_weight=None,\n",
       "                       criterion='gini', max_depth=None, max_features='auto',\n",
       "                       max_leaf_nodes=None, max_samples=None,\n",
       "                       min_impurity_decrease=0.0, min_impurity_split=None,\n",
       "                       min_samples_leaf=1, min_samples_split=2,\n",
       "                       min_weight_fraction_leaf=0.0, n_estimators=300,\n",
       "                       n_jobs=None, oob_score=False, random_state=0, verbose=0,\n",
       "                       warm_start=False)"
      ]
     },
     "execution_count": 39,
     "metadata": {},
     "output_type": "execute_result"
    }
   ],
   "source": [
    "rf_classifier.fit(X,y)"
   ]
  },
  {
   "cell_type": "code",
   "execution_count": 40,
   "metadata": {},
   "outputs": [
    {
     "data": {
      "text/plain": [
       "AdaBoostClassifier(algorithm='SAMME',\n",
       "                   base_estimator=DecisionTreeClassifier(ccp_alpha=0.0,\n",
       "                                                         class_weight=None,\n",
       "                                                         criterion='gini',\n",
       "                                                         max_depth=4,\n",
       "                                                         max_features=None,\n",
       "                                                         max_leaf_nodes=None,\n",
       "                                                         min_impurity_decrease=0.0,\n",
       "                                                         min_impurity_split=None,\n",
       "                                                         min_samples_leaf=1,\n",
       "                                                         min_samples_split=2,\n",
       "                                                         min_weight_fraction_leaf=0.0,\n",
       "                                                         presort='deprecated',\n",
       "                                                         random_state=None,\n",
       "                                                         splitter='best'),\n",
       "                   learning_rate=0.6, n_estimators=500, random_state=0)"
      ]
     },
     "execution_count": 40,
     "metadata": {},
     "output_type": "execute_result"
    }
   ],
   "source": [
    "bdt_discrete.fit(X,y)"
   ]
  },
  {
   "cell_type": "markdown",
   "metadata": {},
   "source": [
    "## Make classification"
   ]
  },
  {
   "cell_type": "code",
   "execution_count": 41,
   "metadata": {},
   "outputs": [
    {
     "data": {
      "text/html": [
       "<div>\n",
       "<style scoped>\n",
       "    .dataframe tbody tr th:only-of-type {\n",
       "        vertical-align: middle;\n",
       "    }\n",
       "\n",
       "    .dataframe tbody tr th {\n",
       "        vertical-align: top;\n",
       "    }\n",
       "\n",
       "    .dataframe thead th {\n",
       "        text-align: right;\n",
       "    }\n",
       "</style>\n",
       "<table border=\"1\" class=\"dataframe\">\n",
       "  <thead>\n",
       "    <tr style=\"text-align: right;\">\n",
       "      <th></th>\n",
       "      <th>Unnamed: 0</th>\n",
       "      <th>x1</th>\n",
       "      <th>x2</th>\n",
       "      <th>x3</th>\n",
       "      <th>x4</th>\n",
       "      <th>x5</th>\n",
       "      <th>x7</th>\n",
       "      <th>x8</th>\n",
       "      <th>x9</th>\n",
       "      <th>x10</th>\n",
       "      <th>x6_B</th>\n",
       "      <th>x6_C</th>\n",
       "      <th>x6_D</th>\n",
       "      <th>x6_E</th>\n",
       "      <th>x6_F</th>\n",
       "      <th>x6_Fx</th>\n",
       "    </tr>\n",
       "  </thead>\n",
       "  <tbody>\n",
       "    <tr>\n",
       "      <th>0</th>\n",
       "      <td>1000</td>\n",
       "      <td>1.495516</td>\n",
       "      <td>0.284986</td>\n",
       "      <td>1.476067</td>\n",
       "      <td>-1.429385</td>\n",
       "      <td>1.0</td>\n",
       "      <td>-0.178130</td>\n",
       "      <td>1.127719</td>\n",
       "      <td>2.709625</td>\n",
       "      <td>-0.093291</td>\n",
       "      <td>0</td>\n",
       "      <td>0</td>\n",
       "      <td>0</td>\n",
       "      <td>1</td>\n",
       "      <td>0</td>\n",
       "      <td>0</td>\n",
       "    </tr>\n",
       "    <tr>\n",
       "      <th>1</th>\n",
       "      <td>1001</td>\n",
       "      <td>0.251302</td>\n",
       "      <td>-0.094785</td>\n",
       "      <td>-0.608043</td>\n",
       "      <td>0.417831</td>\n",
       "      <td>0.0</td>\n",
       "      <td>-0.696002</td>\n",
       "      <td>-0.931182</td>\n",
       "      <td>-1.127254</td>\n",
       "      <td>-0.633472</td>\n",
       "      <td>0</td>\n",
       "      <td>0</td>\n",
       "      <td>0</td>\n",
       "      <td>0</td>\n",
       "      <td>1</td>\n",
       "      <td>0</td>\n",
       "    </tr>\n",
       "    <tr>\n",
       "      <th>2</th>\n",
       "      <td>1002</td>\n",
       "      <td>1.079625</td>\n",
       "      <td>-0.510891</td>\n",
       "      <td>-1.905074</td>\n",
       "      <td>1.789209</td>\n",
       "      <td>0.0</td>\n",
       "      <td>1.108023</td>\n",
       "      <td>1.581727</td>\n",
       "      <td>-0.159929</td>\n",
       "      <td>1.271105</td>\n",
       "      <td>0</td>\n",
       "      <td>0</td>\n",
       "      <td>0</td>\n",
       "      <td>0</td>\n",
       "      <td>1</td>\n",
       "      <td>0</td>\n",
       "    </tr>\n",
       "    <tr>\n",
       "      <th>3</th>\n",
       "      <td>1003</td>\n",
       "      <td>0.903984</td>\n",
       "      <td>1.227435</td>\n",
       "      <td>0.744254</td>\n",
       "      <td>-1.195453</td>\n",
       "      <td>1.0</td>\n",
       "      <td>-0.212428</td>\n",
       "      <td>-0.481968</td>\n",
       "      <td>-1.404440</td>\n",
       "      <td>-0.136588</td>\n",
       "      <td>0</td>\n",
       "      <td>0</td>\n",
       "      <td>0</td>\n",
       "      <td>0</td>\n",
       "      <td>0</td>\n",
       "      <td>0</td>\n",
       "    </tr>\n",
       "    <tr>\n",
       "      <th>4</th>\n",
       "      <td>1004</td>\n",
       "      <td>-1.319584</td>\n",
       "      <td>0.816054</td>\n",
       "      <td>-0.997765</td>\n",
       "      <td>1.053837</td>\n",
       "      <td>0.0</td>\n",
       "      <td>0.512810</td>\n",
       "      <td>2.038102</td>\n",
       "      <td>-0.683503</td>\n",
       "      <td>-0.022813</td>\n",
       "      <td>0</td>\n",
       "      <td>0</td>\n",
       "      <td>0</td>\n",
       "      <td>0</td>\n",
       "      <td>0</td>\n",
       "      <td>0</td>\n",
       "    </tr>\n",
       "  </tbody>\n",
       "</table>\n",
       "</div>"
      ],
      "text/plain": [
       "   Unnamed: 0        x1        x2        x3        x4   x5        x7  \\\n",
       "0        1000  1.495516  0.284986  1.476067 -1.429385  1.0 -0.178130   \n",
       "1        1001  0.251302 -0.094785 -0.608043  0.417831  0.0 -0.696002   \n",
       "2        1002  1.079625 -0.510891 -1.905074  1.789209  0.0  1.108023   \n",
       "3        1003  0.903984  1.227435  0.744254 -1.195453  1.0 -0.212428   \n",
       "4        1004 -1.319584  0.816054 -0.997765  1.053837  0.0  0.512810   \n",
       "\n",
       "         x8        x9       x10  x6_B  x6_C  x6_D  x6_E  x6_F  x6_Fx  \n",
       "0  1.127719  2.709625 -0.093291     0     0     0     1     0      0  \n",
       "1 -0.931182 -1.127254 -0.633472     0     0     0     0     1      0  \n",
       "2  1.581727 -0.159929  1.271105     0     0     0     0     1      0  \n",
       "3 -0.481968 -1.404440 -0.136588     0     0     0     0     0      0  \n",
       "4  2.038102 -0.683503 -0.022813     0     0     0     0     0      0  "
      ]
     },
     "execution_count": 41,
     "metadata": {},
     "output_type": "execute_result"
    }
   ],
   "source": [
    "# I/O test data\n",
    "df_test = pd.read_csv('prepro_testset.csv')\n",
    "df_test.head()"
   ]
  },
  {
   "cell_type": "code",
   "execution_count": 42,
   "metadata": {},
   "outputs": [],
   "source": [
    "# remove unnamed column\n",
    "df_test_X = df_test.loc[:, ~df_test.columns.str.contains('^Unnamed')]"
   ]
  },
  {
   "cell_type": "markdown",
   "metadata": {},
   "source": [
    "### SVM"
   ]
  },
  {
   "cell_type": "code",
   "execution_count": 43,
   "metadata": {},
   "outputs": [],
   "source": [
    "# classification result using svm model\n",
    "y_pred_svm = svm_classifier.predict(df_test_X)"
   ]
  },
  {
   "cell_type": "code",
   "execution_count": 44,
   "metadata": {},
   "outputs": [],
   "source": [
    "# decoding 0,1,2 to label names\n",
    "# Atsuto=0, Bob=1, Jörg=2\n",
    "y_pred_svm = ['Atsuto' if x==0 else x for x in y_pred_svm]\n",
    "y_pred_svm = ['Bob' if x==1 else x for x in y_pred_svm]\n",
    "y_pred_svm = ['Jörg' if x==2 else x for x in y_pred_svm]"
   ]
  },
  {
   "cell_type": "code",
   "execution_count": 45,
   "metadata": {},
   "outputs": [],
   "source": [
    "# I/O\n",
    "with open('SVM.txt', 'w', encoding='utf-8') as f:\n",
    "    for item in y_pred_svm:\n",
    "        f.write(\"%s\\n\" % item)"
   ]
  },
  {
   "cell_type": "markdown",
   "metadata": {},
   "source": [
    "### RF"
   ]
  },
  {
   "cell_type": "code",
   "execution_count": 46,
   "metadata": {},
   "outputs": [],
   "source": [
    "# rf classification result\n",
    "y_pred_rf = rf_classifier.predict(df_test_X)"
   ]
  },
  {
   "cell_type": "code",
   "execution_count": 47,
   "metadata": {},
   "outputs": [],
   "source": [
    "# decoding 0,1,2 to label names\n",
    "# Atsuto=0, Bob=1, Jörg=2\n",
    "y_pred_rf = ['Atsuto' if x==0 else x for x in y_pred_rf]\n",
    "y_pred_rf = ['Bob' if x==1 else x for x in y_pred_rf]\n",
    "y_pred_rf = ['Jörg' if x==2 else x for x in y_pred_rf]"
   ]
  },
  {
   "cell_type": "code",
   "execution_count": 48,
   "metadata": {},
   "outputs": [],
   "source": [
    "# I/O\n",
    "with open('RF.txt', 'w', encoding='utf-8') as f:\n",
    "    for item in y_pred_rf:\n",
    "        f.write(\"%s\\n\" % item)"
   ]
  },
  {
   "cell_type": "markdown",
   "metadata": {},
   "source": [
    "### BDT"
   ]
  },
  {
   "cell_type": "code",
   "execution_count": 49,
   "metadata": {},
   "outputs": [],
   "source": [
    "# boosted decision tree\n",
    "y_pred_bdt = bdt_discrete.predict(df_test_X)"
   ]
  },
  {
   "cell_type": "code",
   "execution_count": 50,
   "metadata": {},
   "outputs": [],
   "source": [
    "# decoding 0,1,2 to label names\n",
    "# Atsuto=0, Bob=1, Jörg=2\n",
    "y_pred_bdt = ['Atsuto' if x==0 else x for x in y_pred_bdt]\n",
    "y_pred_bdt = ['Bob' if x==1 else x for x in y_pred_bdt]\n",
    "y_pred_bdt = ['Jörg' if x==2 else x for x in y_pred_bdt]"
   ]
  },
  {
   "cell_type": "code",
   "execution_count": 51,
   "metadata": {},
   "outputs": [],
   "source": [
    "# I/O\n",
    "with open('BDT.txt', 'w', encoding='utf-8') as f:\n",
    "    for item in y_pred_bdt:\n",
    "        f.write(\"%s\\n\" % item)"
   ]
  },
  {
   "cell_type": "markdown",
   "metadata": {},
   "source": [
    "### Bagging"
   ]
  },
  {
   "cell_type": "code",
   "execution_count": 52,
   "metadata": {},
   "outputs": [],
   "source": [
    "# preset final predictive list\n",
    "y_pred_3 = y_pred_rf\n",
    "\n",
    "# final predictive result gained by vote\n",
    "for i in range(len(y_pred_3)):\n",
    "    if y_pred_svm[i] == y_pred_rf[i]:\n",
    "        y_pred_3[i] = y_pred_svm[i]\n",
    "        \n",
    "    elif y_pred_svm[i] == y_pred_bdt[i]:\n",
    "        y_pred_3[i] = y_pred_svm[i]\n",
    "        \n",
    "    elif y_pred_bdt[i] == y_pred_rf[i]:\n",
    "        y_pred_3[i] = y_pred_rf[i]\n",
    "        \n",
    "# I/O final result\n",
    "with open('103333.txt', 'w', encoding='utf-8') as f:\n",
    "    for item in y_pred_3:\n",
    "        f.write(\"%s\\n\" % item)"
   ]
  },
  {
   "cell_type": "code",
   "execution_count": null,
   "metadata": {},
   "outputs": [],
   "source": []
  }
 ],
 "metadata": {
  "kernelspec": {
   "display_name": "Python 3",
   "language": "python",
   "name": "python3"
  },
  "language_info": {
   "codemirror_mode": {
    "name": "ipython",
    "version": 3
   },
   "file_extension": ".py",
   "mimetype": "text/x-python",
   "name": "python",
   "nbconvert_exporter": "python",
   "pygments_lexer": "ipython3",
   "version": "3.7.6"
  }
 },
 "nbformat": 4,
 "nbformat_minor": 4
}
