{
 "cells": [
  {
   "cell_type": "markdown",
   "metadata": {},
   "source": [
    "encoding utf-8\n",
    "\n",
    "ref: https://scikit-learn.org/stable/modules/preprocessing.html#imputation-of-missing-values"
   ]
  },
  {
   "cell_type": "code",
   "execution_count": 1,
   "metadata": {},
   "outputs": [],
   "source": [
    "import numpy as np\n",
    "import matplotlib.pyplot as plt\n",
    "import pandas as pd\n",
    "from sklearn.preprocessing import OrdinalEncoder\n",
    "from sklearn.preprocessing import OneHotEncoder\n",
    "from sklearn.preprocessing import scale\n",
    "from sklearn.preprocessing import PowerTransformer\n",
    "from sklearn.preprocessing import LabelEncoder\n",
    "from sklearn.impute import SimpleImputer"
   ]
  },
  {
   "cell_type": "markdown",
   "metadata": {},
   "source": [
    "# Exploratory data analysis"
   ]
  },
  {
   "cell_type": "code",
   "execution_count": 2,
   "metadata": {
    "scrolled": false
   },
   "outputs": [
    {
     "data": {
      "text/html": [
       "<div>\n",
       "<style scoped>\n",
       "    .dataframe tbody tr th:only-of-type {\n",
       "        vertical-align: middle;\n",
       "    }\n",
       "\n",
       "    .dataframe tbody tr th {\n",
       "        vertical-align: top;\n",
       "    }\n",
       "\n",
       "    .dataframe thead th {\n",
       "        text-align: right;\n",
       "    }\n",
       "</style>\n",
       "<table border=\"1\" class=\"dataframe\">\n",
       "  <thead>\n",
       "    <tr style=\"text-align: right;\">\n",
       "      <th></th>\n",
       "      <th>id</th>\n",
       "      <th>y</th>\n",
       "      <th>x1</th>\n",
       "      <th>x2</th>\n",
       "      <th>x3</th>\n",
       "      <th>x4</th>\n",
       "      <th>x5</th>\n",
       "      <th>x6</th>\n",
       "      <th>x7</th>\n",
       "      <th>x8</th>\n",
       "      <th>x9</th>\n",
       "      <th>x10</th>\n",
       "    </tr>\n",
       "  </thead>\n",
       "  <tbody>\n",
       "    <tr>\n",
       "      <th>0</th>\n",
       "      <td>0</td>\n",
       "      <td>Bob</td>\n",
       "      <td>-0.78103</td>\n",
       "      <td>-0.63375</td>\n",
       "      <td>-0.03665</td>\n",
       "      <td>0.27517</td>\n",
       "      <td>False</td>\n",
       "      <td>F</td>\n",
       "      <td>-1.85755</td>\n",
       "      <td>0.22668</td>\n",
       "      <td>-2.35130</td>\n",
       "      <td>1.42092</td>\n",
       "    </tr>\n",
       "    <tr>\n",
       "      <th>1</th>\n",
       "      <td>1</td>\n",
       "      <td>Bob</td>\n",
       "      <td>0.42649</td>\n",
       "      <td>-0.50019</td>\n",
       "      <td>0.00696</td>\n",
       "      <td>0.11817</td>\n",
       "      <td>False</td>\n",
       "      <td>F</td>\n",
       "      <td>-1.73761</td>\n",
       "      <td>-1.61015</td>\n",
       "      <td>-5.12219</td>\n",
       "      <td>1.87723</td>\n",
       "    </tr>\n",
       "    <tr>\n",
       "      <th>2</th>\n",
       "      <td>2</td>\n",
       "      <td>Atsuto</td>\n",
       "      <td>1.86817</td>\n",
       "      <td>-0.45565</td>\n",
       "      <td>0.07658</td>\n",
       "      <td>0.09662</td>\n",
       "      <td>False</td>\n",
       "      <td>F</td>\n",
       "      <td>1.02798</td>\n",
       "      <td>-0.92326</td>\n",
       "      <td>-1.67111</td>\n",
       "      <td>2.07828</td>\n",
       "    </tr>\n",
       "    <tr>\n",
       "      <th>3</th>\n",
       "      <td>3</td>\n",
       "      <td>Atsuto</td>\n",
       "      <td>-1.80073</td>\n",
       "      <td>0.08535</td>\n",
       "      <td>-0.02467</td>\n",
       "      <td>0.14032</td>\n",
       "      <td>False</td>\n",
       "      <td>F</td>\n",
       "      <td>2.02793</td>\n",
       "      <td>-0.46318</td>\n",
       "      <td>2.41329</td>\n",
       "      <td>-0.62963</td>\n",
       "    </tr>\n",
       "    <tr>\n",
       "      <th>4</th>\n",
       "      <td>4</td>\n",
       "      <td>Bob</td>\n",
       "      <td>1.56943</td>\n",
       "      <td>-1.25860</td>\n",
       "      <td>-0.02092</td>\n",
       "      <td>0.22267</td>\n",
       "      <td>False</td>\n",
       "      <td>F</td>\n",
       "      <td>-0.43304</td>\n",
       "      <td>-1.99881</td>\n",
       "      <td>-1.58241</td>\n",
       "      <td>2.28423</td>\n",
       "    </tr>\n",
       "  </tbody>\n",
       "</table>\n",
       "</div>"
      ],
      "text/plain": [
       "  id       y        x1        x2       x3       x4     x5 x6       x7  \\\n",
       "0  0     Bob  -0.78103  -0.63375 -0.03665  0.27517  False  F -1.85755   \n",
       "1  1     Bob   0.42649  -0.50019  0.00696  0.11817  False  F -1.73761   \n",
       "2  2  Atsuto   1.86817  -0.45565  0.07658  0.09662  False  F  1.02798   \n",
       "3  3  Atsuto  -1.80073   0.08535 -0.02467  0.14032  False  F  2.02793   \n",
       "4  4     Bob   1.56943  -1.25860 -0.02092  0.22267  False  F -0.43304   \n",
       "\n",
       "        x8       x9      x10  \n",
       "0  0.22668 -2.35130  1.42092  \n",
       "1 -1.61015 -5.12219  1.87723  \n",
       "2 -0.92326 -1.67111  2.07828  \n",
       "3 -0.46318  2.41329 -0.62963  \n",
       "4 -1.99881 -1.58241  2.28423  "
      ]
     },
     "execution_count": 2,
     "metadata": {},
     "output_type": "execute_result"
    }
   ],
   "source": [
    "df = pd.read_csv('TrainOnMe.csv')\n",
    "df.head()"
   ]
  },
  {
   "cell_type": "code",
   "execution_count": 3,
   "metadata": {
    "scrolled": false
   },
   "outputs": [
    {
     "name": "stdout",
     "output_type": "stream",
     "text": [
      "The dataset contains columns of the following data types: \n",
      "id      object\n",
      "y       object\n",
      "x1      object\n",
      "x2      object\n",
      "x3     float64\n",
      "x4     float64\n",
      "x5      object\n",
      "x6      object\n",
      "x7     float64\n",
      "x8     float64\n",
      "x9     float64\n",
      "x10    float64\n",
      "dtype: object\n"
     ]
    }
   ],
   "source": [
    "print(\"The dataset contains columns of the following data types: \\n\" +str(df.dtypes))"
   ]
  },
  {
   "cell_type": "code",
   "execution_count": 4,
   "metadata": {
    "scrolled": true
   },
   "outputs": [
    {
     "name": "stdout",
     "output_type": "stream",
     "text": [
      "The dataset contains following number of records for each of the columns: \n",
      "id     1001\n",
      "y      1001\n",
      "x1     1001\n",
      "x2     1000\n",
      "x3     1000\n",
      "x4     1000\n",
      "x5     1000\n",
      "x6     1000\n",
      "x7     1000\n",
      "x8     1000\n",
      "x9     1000\n",
      "x10     998\n",
      "dtype: int64\n"
     ]
    }
   ],
   "source": [
    "print(\"The dataset contains following number of records for each of the columns: \\n\" +str(df.count()))"
   ]
  },
  {
   "cell_type": "code",
   "execution_count": 5,
   "metadata": {
    "scrolled": false
   },
   "outputs": [
    {
     "name": "stdout",
     "output_type": "stream",
     "text": [
      "Each category within the y column has the following count:\n",
      "y\n",
      " ooh        1\n",
      "Atsuto    297\n",
      "Bob       519\n",
      "Jörg      184\n",
      "dtype: int64\n"
     ]
    },
    {
     "data": {
      "text/plain": [
       "Text(0, 0.5, 'Frequency')"
      ]
     },
     "execution_count": 5,
     "metadata": {},
     "output_type": "execute_result"
    },
    {
     "data": {
      "image/png": "[encoded data removed]",
      "text/plain": [
       "<Figure size 288x288 with 1 Axes>"
      ]
     },
     "metadata": {
      "needs_background": "light"
     },
     "output_type": "display_data"
    }
   ],
   "source": [
    "print(\"Each category within the y column has the following count:\")\n",
    "print(df.groupby(['y']).size())\n",
    "\n",
    "# bar chart to show split of data\n",
    "index = ('Bob', 'Atsuto', 'Jörg')\n",
    "lec_plot = df['y'].value_counts(sort=True, ascending=False).plot(kind='bar',figsize=(4,4), \n",
    "                                                                    title='Total number for occurences of each lecturer'\n",
    "                                                                    + str(df['y'].count()), color=['r', 'b', 'y'])\n",
    "lec_plot.set_xlabel('lecturer')\n",
    "lec_plot.set_ylabel('Frequency')"
   ]
  },
  {
   "cell_type": "markdown",
   "metadata": {},
   "source": [
    "# Preprocessing data"
   ]
  },
  {
   "cell_type": "markdown",
   "metadata": {},
   "source": [
    "### Remove rows and columns"
   ]
  },
  {
   "cell_type": "code",
   "execution_count": 6,
   "metadata": {},
   "outputs": [],
   "source": [
    "# remove noise observation: 'ooh' row\n",
    "for index, row in df.iterrows():\n",
    "    if row['id'] == 'I said':\n",
    "        df = df.drop([index])"
   ]
  },
  {
   "cell_type": "code",
   "execution_count": 7,
   "metadata": {},
   "outputs": [],
   "source": [
    "# remove 'id' columns that are not required\n",
    "df = df.drop(['id'], axis=1)"
   ]
  },
  {
   "cell_type": "markdown",
   "metadata": {},
   "source": [
    "### Imputation of missing values"
   ]
  },
  {
   "cell_type": "code",
   "execution_count": 8,
   "metadata": {},
   "outputs": [],
   "source": [
    "# Imputation of missing values\n",
    "\n",
    "# SimpleImputer using mean value on continuous variables\n",
    "imp_mean = SimpleImputer(missing_values=np.nan, strategy='mean')\n",
    "\n",
    "# SimpleImputer using most frequent on categorical variables\n",
    "imp_most = SimpleImputer(missing_values=np.nan, strategy='most_frequent')"
   ]
  },
  {
   "cell_type": "code",
   "execution_count": 9,
   "metadata": {},
   "outputs": [],
   "source": [
    "# x1 column has 1 '?' entry\n",
    "# convert '?' to 'NaN'\n",
    "for index, row in df.iterrows():\n",
    "    if row['x1'] == '?':\n",
    "        df.at[index,'x1'] = np.nan\n",
    "        \n",
    "# convert 'x1' predictor datatype to float64\n",
    "df['x1'] = df['x1'].astype(float)\n",
    "\n",
    "# impute NaN entries in x1 column\n",
    "imp_mean_x1 = imp_mean.fit(df[['x1']])\n",
    "df['x1'] = imp_mean_x1.transform(df[['x1']])"
   ]
  },
  {
   "cell_type": "code",
   "execution_count": 10,
   "metadata": {},
   "outputs": [],
   "source": [
    "# x2 column has 1 '?' entry\n",
    "# convert '?' to 'NaN'\n",
    "for index, row in df.iterrows():\n",
    "    if row['x2'] == '?':\n",
    "        df.at[index,'x2'] = np.nan\n",
    "        \n",
    "# convert 'x2' predictor datatype to float64\n",
    "df['x2'] = df['x2'].astype(float)\n",
    "\n",
    "# impute NaN entries in x2 column\n",
    "imp_mean_x2 = imp_mean.fit(df[['x2']])\n",
    "df['x2'] = imp_mean_x2.transform(df[['x2']])"
   ]
  },
  {
   "cell_type": "code",
   "execution_count": 11,
   "metadata": {},
   "outputs": [],
   "source": [
    "# x5 column has '?' and 'F' entries\n",
    "# convert '?' to 'NaN', 'F' to 'FALSE'\n",
    "for index, row in df.iterrows():\n",
    "    if row['x5'] == '?':\n",
    "        df.at[index,'x5'] = np.nan\n",
    "    if row['x5'] == 'F':\n",
    "        df.at[index,'x5'] = 'False'\n",
    "        \n",
    "# impute NaN entries in x5 column\n",
    "imp_most_x5 = imp_most.fit(df[['x5']])\n",
    "df['x5'] = imp_most_x5.transform(df[['x5']])"
   ]
  },
  {
   "cell_type": "code",
   "execution_count": 12,
   "metadata": {},
   "outputs": [],
   "source": [
    "# x6 column has a numerical entry\n",
    "# convert it to 'NaN'\n",
    "for index, row in df.iterrows():\n",
    "    if row['x6'] not in ['A','B','C','D','E','F','Fx']:\n",
    "        df.at[index,'x6'] = np.nan\n",
    "# impute NaN entries in x6 column\n",
    "imp_most_x6 = imp_most.fit(df[['x6']])\n",
    "df['x6'] = imp_most_x6.transform(df[['x6']])"
   ]
  },
  {
   "cell_type": "code",
   "execution_count": 13,
   "metadata": {},
   "outputs": [],
   "source": [
    "# impute NaN entries in x10 column\n",
    "imp_mean_x10 = imp_mean.fit(df[['x10']])\n",
    "df['x10'] = imp_mean_x10.transform(df[['x10']])"
   ]
  },
  {
   "cell_type": "code",
   "execution_count": 14,
   "metadata": {},
   "outputs": [],
   "source": [
    "# other NA imputation method: Multivariate feature imputation\n",
    "# ref: https://scikit-learn.org/stable/modules/impute.html#impute"
   ]
  },
  {
   "cell_type": "markdown",
   "metadata": {},
   "source": [
    "### Preprocess categorical input variables"
   ]
  },
  {
   "cell_type": "code",
   "execution_count": 15,
   "metadata": {},
   "outputs": [
    {
     "name": "stdout",
     "output_type": "stream",
     "text": [
      "[array(['False', 'True'], dtype=object)]\n"
     ]
    }
   ],
   "source": [
    "# encode feature x5 = [True, False] to 1(True), 0(False)\n",
    "enc_OE = OrdinalEncoder()\n",
    "enc_x5 = enc_OE.fit(df[['x5']])\n",
    "print(enc_x5.categories_)\n",
    "df[['x5']] = enc_x5.transform(df[['x5']])"
   ]
  },
  {
   "cell_type": "code",
   "execution_count": 16,
   "metadata": {},
   "outputs": [],
   "source": [
    "# encoding feature x6\n",
    "# create dummy variables and drop the base category x6_A\n",
    "# ref: https://queirozf.com/entries/one-hot-encoding-a-feature-on-a-pandas-dataframe-an-example\n",
    "df_dummy = pd.get_dummies(df['x6'], prefix='x6', drop_first=True)\n",
    "df = pd.concat([df, df_dummy], axis=1).drop(['x6'], axis=1)"
   ]
  },
  {
   "cell_type": "markdown",
   "metadata": {},
   "source": [
    "### Preprocess numerical input variables"
   ]
  },
  {
   "cell_type": "code",
   "execution_count": 17,
   "metadata": {
    "scrolled": true
   },
   "outputs": [
    {
     "name": "stdout",
     "output_type": "stream",
     "text": [
      "0.010442412412412342\n",
      "-9.436895709313831e-18\n"
     ]
    }
   ],
   "source": [
    "# standardize x1\n",
    "print(df['x1'].mean(axis=0))\n",
    "df['x1'] = scale(df['x1'])\n",
    "print(df['x1'].mean(axis=0))"
   ]
  },
  {
   "cell_type": "code",
   "execution_count": 18,
   "metadata": {},
   "outputs": [
    {
     "data": {
      "image/png": "[encoded data removed]",
      "text/plain": [
       "<Figure size 432x288 with 1 Axes>"
      ]
     },
     "metadata": {
      "needs_background": "light"
     },
     "output_type": "display_data"
    }
   ],
   "source": [
    "plot_x1 = plt.hist(df['x1'], 50)"
   ]
  },
  {
   "cell_type": "code",
   "execution_count": 19,
   "metadata": {},
   "outputs": [
    {
     "name": "stdout",
     "output_type": "stream",
     "text": [
      "0.021707327327327323\n",
      "-7.608497165634276e-18\n"
     ]
    }
   ],
   "source": [
    "# standardize x2\n",
    "print(df['x2'].mean(axis=0))\n",
    "df['x2'] = scale(df['x2'])\n",
    "print(df['x2'].mean(axis=0))"
   ]
  },
  {
   "cell_type": "code",
   "execution_count": 20,
   "metadata": {},
   "outputs": [
    {
     "data": {
      "image/png": "[encoded data removed]",
      "text/plain": [
       "<Figure size 432x288 with 1 Axes>"
      ]
     },
     "metadata": {
      "needs_background": "light"
     },
     "output_type": "display_data"
    }
   ],
   "source": [
    "plot_x2 = plt.hist(df['x2'], 50)"
   ]
  },
  {
   "cell_type": "code",
   "execution_count": 21,
   "metadata": {},
   "outputs": [],
   "source": [
    "# apply non-linear transformation and standardization on x3\n",
    "pt = PowerTransformer()\n",
    "df['x3'] = pt.fit_transform(df[['x3']])"
   ]
  },
  {
   "cell_type": "code",
   "execution_count": 22,
   "metadata": {},
   "outputs": [
    {
     "data": {
      "image/png": "[encoded data removed]",
      "text/plain": [
       "<Figure size 432x288 with 1 Axes>"
      ]
     },
     "metadata": {
      "needs_background": "light"
     },
     "output_type": "display_data"
    }
   ],
   "source": [
    "plot_x3 = plt.hist(df['x3'], 50)"
   ]
  },
  {
   "cell_type": "code",
   "execution_count": 23,
   "metadata": {},
   "outputs": [],
   "source": [
    "# apply non-linear transformation and standardization on x3\n",
    "df['x4'] = pt.fit_transform(df[['x4']])"
   ]
  },
  {
   "cell_type": "code",
   "execution_count": 24,
   "metadata": {},
   "outputs": [
    {
     "data": {
      "image/png": "[encoded data removed]",
      "text/plain": [
       "<Figure size 432x288 with 1 Axes>"
      ]
     },
     "metadata": {
      "needs_background": "light"
     },
     "output_type": "display_data"
    }
   ],
   "source": [
    "plot_x4 = plt.hist(df['x4'], 50)"
   ]
  },
  {
   "cell_type": "code",
   "execution_count": 25,
   "metadata": {},
   "outputs": [
    {
     "name": "stdout",
     "output_type": "stream",
     "text": [
      "453 -1000.9213699999999\n"
     ]
    }
   ],
   "source": [
    "# define the outliers in x7\n",
    "for index, row in df.iterrows():\n",
    "    if row['x7'] < -1000:\n",
    "        print(index, row['x7'])\n",
    "        df.at[index,'x7'] = row['x7']/1000"
   ]
  },
  {
   "cell_type": "code",
   "execution_count": 26,
   "metadata": {},
   "outputs": [
    {
     "name": "stdout",
     "output_type": "stream",
     "text": [
      "-0.06856533137000002\n",
      "1.4387005331549172\n",
      "2.0039525594484075e-17\n",
      "1.0005003753127735\n"
     ]
    }
   ],
   "source": [
    "# standardize x7\n",
    "print(df['x7'].mean(axis=0))\n",
    "print(df['x7'].std(axis=0))\n",
    "df['x7'] = scale(df['x7'])\n",
    "print(df['x7'].mean(axis=0))\n",
    "print(df['x7'].std(axis=0))"
   ]
  },
  {
   "cell_type": "code",
   "execution_count": 27,
   "metadata": {},
   "outputs": [
    {
     "data": {
      "image/png": "[encoded data removed]",
      "text/plain": [
       "<Figure size 432x288 with 1 Axes>"
      ]
     },
     "metadata": {
      "needs_background": "light"
     },
     "output_type": "display_data"
    }
   ],
   "source": [
    "plot_x7 = plt.hist(df['x7'], 50)"
   ]
  },
  {
   "cell_type": "code",
   "execution_count": 28,
   "metadata": {},
   "outputs": [
    {
     "name": "stdout",
     "output_type": "stream",
     "text": [
      "539 300000.08408\n"
     ]
    }
   ],
   "source": [
    "# define the outliers in x8\n",
    "for index, row in df.iterrows():\n",
    "    if row['x8'] > 300000:\n",
    "        print(index, row['x8'])\n",
    "        df.at[index,'x8'] = row['x8']/100000"
   ]
  },
  {
   "cell_type": "code",
   "execution_count": 29,
   "metadata": {},
   "outputs": [],
   "source": [
    "# standardize x8\n",
    "df['x8'] = scale(df['x8'])"
   ]
  },
  {
   "cell_type": "code",
   "execution_count": 30,
   "metadata": {},
   "outputs": [
    {
     "data": {
      "image/png": "[encoded data removed]",
      "text/plain": [
       "<Figure size 432x288 with 1 Axes>"
      ]
     },
     "metadata": {
      "needs_background": "light"
     },
     "output_type": "display_data"
    }
   ],
   "source": [
    "plot_x8 = plt.hist(df['x8'], 50)"
   ]
  },
  {
   "cell_type": "code",
   "execution_count": 31,
   "metadata": {},
   "outputs": [],
   "source": [
    "# standardize x9\n",
    "df['x9'] = scale(df['x9'])"
   ]
  },
  {
   "cell_type": "code",
   "execution_count": 32,
   "metadata": {},
   "outputs": [
    {
     "data": {
      "image/png": "[encoded data removed]",
      "text/plain": [
       "<Figure size 432x288 with 1 Axes>"
      ]
     },
     "metadata": {
      "needs_background": "light"
     },
     "output_type": "display_data"
    }
   ],
   "source": [
    "plot_x9 = plt.hist(df['x9'], 50)"
   ]
  },
  {
   "cell_type": "code",
   "execution_count": 33,
   "metadata": {},
   "outputs": [],
   "source": [
    "# standardize x10\n",
    "df['x10'] = scale(df['x10'])"
   ]
  },
  {
   "cell_type": "code",
   "execution_count": 34,
   "metadata": {},
   "outputs": [
    {
     "data": {
      "image/png": "[encoded data removed]",
      "text/plain": [
       "<Figure size 432x288 with 1 Axes>"
      ]
     },
     "metadata": {
      "needs_background": "light"
     },
     "output_type": "display_data"
    }
   ],
   "source": [
    "ploy_x10 = plt.hist(df['x10'], 50)"
   ]
  },
  {
   "cell_type": "markdown",
   "metadata": {},
   "source": [
    "### Preprocessing categorical output labels"
   ]
  },
  {
   "cell_type": "code",
   "execution_count": 35,
   "metadata": {},
   "outputs": [
    {
     "name": "stdout",
     "output_type": "stream",
     "text": [
      "['Atsuto' 'Bob' 'Jörg']\n"
     ]
    }
   ],
   "source": [
    "le = LabelEncoder()\n",
    "le_y = le.fit(df['y'])\n",
    "print(le_y.classes_) # encode Atsuto=0, Bob=1, Jörg=2\n",
    "df['y'] = le_y.transform(df['y'])"
   ]
  },
  {
   "cell_type": "markdown",
   "metadata": {},
   "source": [
    "### Output preprocessing results .csv"
   ]
  },
  {
   "cell_type": "code",
   "execution_count": 36,
   "metadata": {},
   "outputs": [],
   "source": [
    "df.to_csv('prepro_result.csv', index=False)"
   ]
  }
 ],
 "metadata": {
  "kernelspec": {
   "display_name": "Python 3",
   "language": "python",
   "name": "python3"
  },
  "language_info": {
   "codemirror_mode": {
    "name": "ipython",
    "version": 3
   },
   "file_extension": ".py",
   "mimetype": "text/x-python",
   "name": "python",
   "nbconvert_exporter": "python",
   "pygments_lexer": "ipython3",
   "version": "3.7.6"
  }
 },
 "nbformat": 4,
 "nbformat_minor": 4
}
