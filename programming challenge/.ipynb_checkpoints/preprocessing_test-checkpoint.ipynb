{
 "cells": [
  {
   "cell_type": "markdown",
   "metadata": {},
   "source": [
    "encoding utf-8"
   ]
  },
  {
   "cell_type": "code",
   "execution_count": 15,
   "metadata": {},
   "outputs": [],
   "source": [
    "import numpy as np\n",
    "import matplotlib.pyplot as plt\n",
    "import pandas as pd\n",
    "from sklearn.preprocessing import OrdinalEncoder\n",
    "from sklearn.preprocessing import OneHotEncoder\n",
    "from sklearn.preprocessing import scale\n",
    "from sklearn.preprocessing import PowerTransformer\n",
    "from sklearn.preprocessing import LabelEncoder\n",
    "from sklearn.impute import SimpleImputer"
   ]
  },
  {
   "cell_type": "code",
   "execution_count": 16,
   "metadata": {},
   "outputs": [
    {
     "data": {
      "text/html": [
       "<div>\n",
       "<style scoped>\n",
       "    .dataframe tbody tr th:only-of-type {\n",
       "        vertical-align: middle;\n",
       "    }\n",
       "\n",
       "    .dataframe tbody tr th {\n",
       "        vertical-align: top;\n",
       "    }\n",
       "\n",
       "    .dataframe thead th {\n",
       "        text-align: right;\n",
       "    }\n",
       "</style>\n",
       "<table border=\"1\" class=\"dataframe\">\n",
       "  <thead>\n",
       "    <tr style=\"text-align: right;\">\n",
       "      <th></th>\n",
       "      <th>Unnamed: 0</th>\n",
       "      <th>x1</th>\n",
       "      <th>x2</th>\n",
       "      <th>x3</th>\n",
       "      <th>x4</th>\n",
       "      <th>x5</th>\n",
       "      <th>x6</th>\n",
       "      <th>x7</th>\n",
       "      <th>x8</th>\n",
       "      <th>x9</th>\n",
       "      <th>x10</th>\n",
       "    </tr>\n",
       "  </thead>\n",
       "  <tbody>\n",
       "    <tr>\n",
       "      <th>0</th>\n",
       "      <td>1000</td>\n",
       "      <td>2.11820</td>\n",
       "      <td>0.30064</td>\n",
       "      <td>0.11441</td>\n",
       "      <td>0.08570</td>\n",
       "      <td>True</td>\n",
       "      <td>E</td>\n",
       "      <td>-0.23694</td>\n",
       "      <td>1.34755</td>\n",
       "      <td>4.41336</td>\n",
       "      <td>0.92271</td>\n",
       "    </tr>\n",
       "    <tr>\n",
       "      <th>1</th>\n",
       "      <td>1001</td>\n",
       "      <td>0.33456</td>\n",
       "      <td>-0.08190</td>\n",
       "      <td>-0.70144</td>\n",
       "      <td>0.69276</td>\n",
       "      <td>False</td>\n",
       "      <td>F</td>\n",
       "      <td>-0.97349</td>\n",
       "      <td>-1.46992</td>\n",
       "      <td>-3.30673</td>\n",
       "      <td>0.22554</td>\n",
       "    </tr>\n",
       "    <tr>\n",
       "      <th>2</th>\n",
       "      <td>1002</td>\n",
       "      <td>1.52200</td>\n",
       "      <td>-0.50104</td>\n",
       "      <td>-1.34160</td>\n",
       "      <td>1.28651</td>\n",
       "      <td>False</td>\n",
       "      <td>F</td>\n",
       "      <td>1.59231</td>\n",
       "      <td>1.96883</td>\n",
       "      <td>-1.36040</td>\n",
       "      <td>2.68363</td>\n",
       "    </tr>\n",
       "    <tr>\n",
       "      <th>3</th>\n",
       "      <td>1003</td>\n",
       "      <td>1.27021</td>\n",
       "      <td>1.24996</td>\n",
       "      <td>-0.14228</td>\n",
       "      <td>0.15172</td>\n",
       "      <td>True</td>\n",
       "      <td>A</td>\n",
       "      <td>-0.28572</td>\n",
       "      <td>-0.85520</td>\n",
       "      <td>-3.86445</td>\n",
       "      <td>0.86683</td>\n",
       "    </tr>\n",
       "    <tr>\n",
       "      <th>4</th>\n",
       "      <td>1004</td>\n",
       "      <td>-1.91738</td>\n",
       "      <td>0.83558</td>\n",
       "      <td>-0.88311</td>\n",
       "      <td>0.95150</td>\n",
       "      <td>False</td>\n",
       "      <td>A</td>\n",
       "      <td>0.74576</td>\n",
       "      <td>2.59335</td>\n",
       "      <td>-2.41387</td>\n",
       "      <td>1.01367</td>\n",
       "    </tr>\n",
       "  </tbody>\n",
       "</table>\n",
       "</div>"
      ],
      "text/plain": [
       "   Unnamed: 0       x1       x2       x3       x4     x5 x6       x7       x8  \\\n",
       "0        1000  2.11820  0.30064  0.11441  0.08570   True  E -0.23694  1.34755   \n",
       "1        1001  0.33456 -0.08190 -0.70144  0.69276  False  F -0.97349 -1.46992   \n",
       "2        1002  1.52200 -0.50104 -1.34160  1.28651  False  F  1.59231  1.96883   \n",
       "3        1003  1.27021  1.24996 -0.14228  0.15172   True  A -0.28572 -0.85520   \n",
       "4        1004 -1.91738  0.83558 -0.88311  0.95150  False  A  0.74576  2.59335   \n",
       "\n",
       "        x9      x10  \n",
       "0  4.41336  0.92271  \n",
       "1 -3.30673  0.22554  \n",
       "2 -1.36040  2.68363  \n",
       "3 -3.86445  0.86683  \n",
       "4 -2.41387  1.01367  "
      ]
     },
     "execution_count": 16,
     "metadata": {},
     "output_type": "execute_result"
    }
   ],
   "source": [
    "# IO test data\n",
    "df = pd.read_csv('EvaluateOnMe.csv')\n",
    "df.head()"
   ]
  },
  {
   "cell_type": "code",
   "execution_count": 17,
   "metadata": {},
   "outputs": [
    {
     "name": "stdout",
     "output_type": "stream",
     "text": [
      "[array([False,  True])]\n"
     ]
    }
   ],
   "source": [
    "# preprocess categorical variables\n",
    "# x5\n",
    "enc_OE = OrdinalEncoder()\n",
    "enc_x5 = enc_OE.fit(df[['x5']])\n",
    "print(enc_x5.categories_)\n",
    "df[['x5']] = enc_x5.transform(df[['x5']])"
   ]
  },
  {
   "cell_type": "code",
   "execution_count": 18,
   "metadata": {},
   "outputs": [],
   "source": [
    "# preprocess categorical variables\n",
    "# x6\n",
    "df_dummy = pd.get_dummies(df['x6'], prefix='x6', drop_first=True)\n",
    "df = pd.concat([df, df_dummy], axis=1).drop(['x6'], axis=1)"
   ]
  },
  {
   "cell_type": "code",
   "execution_count": 19,
   "metadata": {},
   "outputs": [],
   "source": [
    "# EDA\n",
    "# plt.hist(df['x10'],50)"
   ]
  },
  {
   "cell_type": "code",
   "execution_count": 20,
   "metadata": {},
   "outputs": [
    {
     "name": "stdout",
     "output_type": "stream",
     "text": [
      "-0.025693744999999945\n",
      "2.065014825802791e-18\n"
     ]
    }
   ],
   "source": [
    "# standardize x1\n",
    "print(df['x1'].mean(axis=0))\n",
    "df['x1'] = scale(df['x1'])\n",
    "print(df['x1'].mean(axis=0))"
   ]
  },
  {
   "cell_type": "code",
   "execution_count": 21,
   "metadata": {},
   "outputs": [
    {
     "name": "stdout",
     "output_type": "stream",
     "text": [
      "0.013576000999999982\n",
      "4.451369828295526e-17\n"
     ]
    }
   ],
   "source": [
    "# standardize x2\n",
    "print(df['x2'].mean(axis=0))\n",
    "df['x2'] = scale(df['x2'])\n",
    "print(df['x2'].mean(axis=0))"
   ]
  },
  {
   "cell_type": "code",
   "execution_count": 22,
   "metadata": {},
   "outputs": [],
   "source": [
    "# apply non-linear transformation and standardization on x3\n",
    "pt = PowerTransformer()\n",
    "df['x3'] = pt.fit_transform(df[['x3']])"
   ]
  },
  {
   "cell_type": "code",
   "execution_count": 23,
   "metadata": {},
   "outputs": [],
   "source": [
    "# apply non-linear transformation and standardization on x4\n",
    "df['x4'] = pt.fit_transform(df[['x4']])"
   ]
  },
  {
   "cell_type": "code",
   "execution_count": 24,
   "metadata": {},
   "outputs": [
    {
     "name": "stdout",
     "output_type": "stream",
     "text": [
      "0.016408305000000015\n",
      "1.4223352436765795\n",
      "1.3522516439934407e-17\n",
      "1.0000500037503126\n"
     ]
    }
   ],
   "source": [
    "# standardize x7\n",
    "print(df['x7'].mean(axis=0))\n",
    "print(df['x7'].std(axis=0))\n",
    "df['x7'] = scale(df['x7'])\n",
    "print(df['x7'].mean(axis=0))\n",
    "print(df['x7'].std(axis=0))"
   ]
  },
  {
   "cell_type": "code",
   "execution_count": 25,
   "metadata": {},
   "outputs": [],
   "source": [
    "# standardize x8\n",
    "df['x8'] = scale(df['x8'])"
   ]
  },
  {
   "cell_type": "code",
   "execution_count": 26,
   "metadata": {},
   "outputs": [],
   "source": [
    "# standardize x9\n",
    "df['x9'] = scale(df['x9'])"
   ]
  },
  {
   "cell_type": "code",
   "execution_count": 27,
   "metadata": {},
   "outputs": [],
   "source": [
    "# standardize x10\n",
    "df['x10'] = scale(df['x10'])"
   ]
  },
  {
   "cell_type": "code",
   "execution_count": 28,
   "metadata": {},
   "outputs": [],
   "source": [
    "# output preprocessed df_test\n",
    "df.to_csv('prepro_testset.csv', index=False)"
   ]
  },
  {
   "cell_type": "code",
   "execution_count": null,
   "metadata": {},
   "outputs": [],
   "source": []
  }
 ],
 "metadata": {
  "kernelspec": {
   "display_name": "Python 3",
   "language": "python",
   "name": "python3"
  },
  "language_info": {
   "codemirror_mode": {
    "name": "ipython",
    "version": 3
   },
   "file_extension": ".py",
   "mimetype": "text/x-python",
   "name": "python",
   "nbconvert_exporter": "python",
   "pygments_lexer": "ipython3",
   "version": "3.7.6"
  }
 },
 "nbformat": 4,
 "nbformat_minor": 4
}
