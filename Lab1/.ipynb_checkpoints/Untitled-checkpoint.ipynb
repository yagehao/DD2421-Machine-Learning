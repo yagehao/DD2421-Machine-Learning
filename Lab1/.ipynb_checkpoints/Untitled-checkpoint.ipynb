{
 "cells": [
  {
   "cell_type": "markdown",
   "metadata": {},
   "source": [
    "# DD2421 Machine Learning - Lab 1: Decision Trees"
   ]
  },
  {
   "cell_type": "code",
   "execution_count": 2,
   "metadata": {},
   "outputs": [
    {
     "name": "stdout",
     "output_type": "stream",
     "text": [
      "/Users/grace/Desktop/DD2421/DD2421Lab1/dectrees/python\n"
     ]
    }
   ],
   "source": [
    "cd dectrees/python"
   ]
  },
  {
   "cell_type": "code",
   "execution_count": 36,
   "metadata": {},
   "outputs": [],
   "source": [
    "import numpy as np"
   ]
  },
  {
   "cell_type": "markdown",
   "metadata": {},
   "source": [
    "## Assignment 0"
   ]
  },
  {
   "cell_type": "markdown",
   "metadata": {},
   "source": [
    "I suspect MONK-2 classification will be the hardest for a decision tree to learn. Since the classifying conditions for MONK-1 and MONK-3 are static and explicit. While classificaiton problem of MONK-2 requires observing the current status of other attributes."
   ]
  },
  {
   "cell_type": "markdown",
   "metadata": {},
   "source": [
    "## Assignment 1"
   ]
  },
  {
   "cell_type": "code",
   "execution_count": 3,
   "metadata": {},
   "outputs": [],
   "source": [
    "import monkdata as m\n",
    "import dtree"
   ]
  },
  {
   "cell_type": "code",
   "execution_count": 4,
   "metadata": {},
   "outputs": [
    {
     "data": {
      "text/plain": [
       "1.0"
      ]
     },
     "execution_count": 4,
     "metadata": {},
     "output_type": "execute_result"
    }
   ],
   "source": [
    "# entropy of monk-1 training dataset\n",
    "dtree.entropy(m.monk1)"
   ]
  },
  {
   "cell_type": "code",
   "execution_count": 5,
   "metadata": {},
   "outputs": [
    {
     "data": {
      "text/plain": [
       "0.957117428264771"
      ]
     },
     "execution_count": 5,
     "metadata": {},
     "output_type": "execute_result"
    }
   ],
   "source": [
    "# entropy of monk-2 training dataset\n",
    "dtree.entropy(m.monk2)"
   ]
  },
  {
   "cell_type": "code",
   "execution_count": 6,
   "metadata": {},
   "outputs": [
    {
     "data": {
      "text/plain": [
       "0.9998061328047111"
      ]
     },
     "execution_count": 6,
     "metadata": {},
     "output_type": "execute_result"
    }
   ],
   "source": [
    "# entropy of monk-3 training dataset\n",
    "dtree.entropy(m.monk3)"
   ]
  },
  {
   "cell_type": "markdown",
   "metadata": {},
   "source": [
    "## Assignment 2"
   ]
  },
  {
   "cell_type": "markdown",
   "metadata": {},
   "source": [
    "Intuitively, entropy implies the uncertainty and randomness of a distribution. A uniform distribution means the realization of the variable lies arbitrarily between an interval, indicating the entropy reaches maximum. "
   ]
  },
  {
   "cell_type": "markdown",
   "metadata": {},
   "source": [
    "????????????????????"
   ]
  },
  {
   "cell_type": "markdown",
   "metadata": {},
   "source": [
    "## Assignment 3"
   ]
  },
  {
   "cell_type": "code",
   "execution_count": 7,
   "metadata": {},
   "outputs": [
    {
     "name": "stdout",
     "output_type": "stream",
     "text": [
      "0.07527255560831925\n",
      "0.005838429962909286\n",
      "0.00470756661729721\n",
      "0.02631169650768228\n",
      "0.28703074971578435\n",
      "0.0007578557158638421\n"
     ]
    }
   ],
   "source": [
    "# information gain of monk-1 training dataset w.r.t. attribute-1 to 6\n",
    "for i in range(0,6):\n",
    "    print(dtree.averageGain(m.monk1, m.attributes[i]))"
   ]
  },
  {
   "cell_type": "markdown",
   "metadata": {},
   "source": [
    "For monk-1 training dataset, a5 gives most information gain. Thus at the root node, split examples based on a5."
   ]
  },
  {
   "cell_type": "code",
   "execution_count": 8,
   "metadata": {},
   "outputs": [
    {
     "name": "stdout",
     "output_type": "stream",
     "text": [
      "0.0037561773775118823\n",
      "0.0024584986660830532\n",
      "0.0010561477158920196\n",
      "0.015664247292643818\n",
      "0.01727717693791797\n",
      "0.006247622236881467\n"
     ]
    }
   ],
   "source": [
    "# information gain of monk-2 training dataset w.r.t. attribute-1 to 6\n",
    "for i in range(0,6):\n",
    "    print(dtree.averageGain(m.monk2, m.attributes[i]))"
   ]
  },
  {
   "cell_type": "markdown",
   "metadata": {},
   "source": [
    "For monk-2 training dataset, a5 gives most information gain. Thus at the root node, split examples based on a5."
   ]
  },
  {
   "cell_type": "code",
   "execution_count": 9,
   "metadata": {},
   "outputs": [
    {
     "name": "stdout",
     "output_type": "stream",
     "text": [
      "0.007120868396071844\n",
      "0.29373617350838865\n",
      "0.0008311140445336207\n",
      "0.002891817288654397\n",
      "0.25591172461972755\n",
      "0.007077026074097326\n"
     ]
    }
   ],
   "source": [
    "# information gain of monk-3 training dataset w.r.t. attribute-1 to 6\n",
    "for i in range(0,6):\n",
    "    print(dtree.averageGain(m.monk3, m.attributes[i]))"
   ]
  },
  {
   "cell_type": "markdown",
   "metadata": {},
   "source": [
    "For monk-3 training dataset, a2 gives most information gain. Thus at the root node, split examples based on a2."
   ]
  },
  {
   "cell_type": "markdown",
   "metadata": {},
   "source": [
    "## Assignment 4"
   ]
  },
  {
   "cell_type": "markdown",
   "metadata": {},
   "source": [
    "According to Eq.3, while we maximize the information gain, the entropy of the subsets, Sk, will be minimized. According to definition of entropy, it represents the uncertainty of the system or the dataset. Therefore, using the IG as a heuristic and picking an attribute that maximum reduce the entropy after splitting means we find the attribute that best classify data into different categories and reduce the uncertainty."
   ]
  },
  {
   "cell_type": "markdown",
   "metadata": {},
   "source": [
    "## Assignment 5"
   ]
  },
  {
   "cell_type": "code",
   "execution_count": 10,
   "metadata": {
    "scrolled": true
   },
   "outputs": [
    {
     "name": "stdout",
     "output_type": "stream",
     "text": [
      "0.0\n",
      "0.17129629629629628\n"
     ]
    }
   ],
   "source": [
    "# build tree-1\n",
    "t1 = dtree.buildTree(m.monk1, m.attributes)\n",
    "# error of training set\n",
    "print(1-dtree.check(t1, m.monk1))\n",
    "# error of test set\n",
    "print(1-dtree.check(t1, m.monk1test))"
   ]
  },
  {
   "cell_type": "code",
   "execution_count": 11,
   "metadata": {},
   "outputs": [
    {
     "name": "stdout",
     "output_type": "stream",
     "text": [
      "0.0\n",
      "0.30787037037037035\n"
     ]
    }
   ],
   "source": [
    "# build tree-2\n",
    "t2 = dtree.buildTree(m.monk2, m.attributes)\n",
    "# error of training set\n",
    "print(1-dtree.check(t2, m.monk2))\n",
    "# error of test set\n",
    "print(1-dtree.check(t2, m.monk2test))"
   ]
  },
  {
   "cell_type": "code",
   "execution_count": 12,
   "metadata": {
    "scrolled": true
   },
   "outputs": [
    {
     "name": "stdout",
     "output_type": "stream",
     "text": [
      "0.0\n",
      "0.05555555555555558\n"
     ]
    }
   ],
   "source": [
    "# build tree-3\n",
    "t3 = dtree.buildTree(m.monk3, m.attributes)\n",
    "# error of training set\n",
    "print(1-dtree.check(t3, m.monk3))\n",
    "# error of test set\n",
    "print(1-dtree.check(t3, m.monk3test))"
   ]
  },
  {
   "cell_type": "code",
   "execution_count": 13,
   "metadata": {
    "scrolled": true
   },
   "outputs": [],
   "source": [
    "# draw Tree\n",
    "import drawtree_qt5 as dt\n",
    "\n",
    "# dt.drawTree(t1)\n",
    "# dt.drawTree(t2)\n",
    "# dt.drawTree(t3)"
   ]
  },
  {
   "cell_type": "markdown",
   "metadata": {},
   "source": [
    "In Assignment 0, I predicted that MONK-2 is the most challenging dataset, and I think it is confirmed here. With buildTree function, all the three training datasets produce decision trees with no error in training data. However, on test dataset, MONK-2 decision tree has the largest error, implying a poor classify correction."
   ]
  },
  {
   "cell_type": "markdown",
   "metadata": {},
   "source": [
    "## Assignment 6"
   ]
  },
  {
   "cell_type": "markdown",
   "metadata": {},
   "source": [
    "Pruning provides an approach that avoid overfitting by stopping growing the tree further from some nodes when a preset threshold is met. It avoids forming a tree with too many degrees of freedom and therefore reduces the variance. And the bias can be limited within an acceptable interval since we manually set the restricting threshold, though the bias will be larger compared with the fully growed tree."
   ]
  },
  {
   "cell_type": "markdown",
   "metadata": {},
   "source": [
    "## Assignment 7"
   ]
  },
  {
   "cell_type": "code",
   "execution_count": 27,
   "metadata": {},
   "outputs": [],
   "source": [
    "import random\n",
    "\n",
    "def partition(data, fraction):\n",
    "    \"\"\"A funtion that partition dataset into training set and validation set with specified fraction parameter.\"\"\"\n",
    "    ldata = list(data)\n",
    "    random.shuffle(ldata)\n",
    "    breakPoint = int(len(ldata) * fraction)\n",
    "    return ldata[:breakPoint], ldata[breakPoint:]"
   ]
  },
  {
   "cell_type": "code",
   "execution_count": 65,
   "metadata": {},
   "outputs": [],
   "source": [
    "# repeat partition 100 times on monk1 w.r.t each parameter, record and calculate mean error\n",
    "\n",
    "def meanerror(partitionset, parameter, repeattimes, testset):\n",
    "\n",
    "    lerror1 = [] # error list\n",
    "    loperror = [] # error list of original tree\n",
    "\n",
    "    for k in range(repeattimes):\n",
    "\n",
    "        monk1train, monk1val = partition(partitionset, parameter) # split monk-1,3 into training and validation set\n",
    "\n",
    "        t1 = dtree.buildTree(monk1train, m.attributes) # build a decision tree based on monk-1,3-training set\n",
    "        op = dtree.check(t1, monk1val) # performance of original tree\n",
    "\n",
    "        lpt1 = dtree.allPruned(t1) # prune the monk-1-training tree, receiving a tuple of different prunes\n",
    "        pt1 = t1 # preset pruning tree-1 using the original tree\n",
    "        bp = op # preset best performance using original tree performance\n",
    "\n",
    "        # recursively compare performances of original tree and pruning tree, keep the tree with highest correction\n",
    "        for i in lpt1:\n",
    "            pp = dtree.check(i, monk1val) # performance of i pruning tree in allPruned resulting tuple\n",
    "            #print(0, pp)\n",
    "            \n",
    "            #bp = max(bp,pp)\n",
    "            if pp > bp:\n",
    "                bp = pp\n",
    "                pt1 = i\n",
    "            #print(1, bp)  \n",
    "        \n",
    "        pptest = dtree.check(pt1, testset) # performance on test set using pruning tree\n",
    "        error1 = 1-pptest\n",
    "        lerror1.append(error1)\n",
    "        \n",
    "        optest = dtree.check(t1, testset) # performance on test set using original tree\n",
    "        operror = 1-optest\n",
    "        loperror.append(operror)\n",
    "\n",
    "    #print(lerror1)\n",
    "    merror = np.mean(lerror1)\n",
    "    moperror = np.mean(loperror)\n",
    "    return merror, moperror"
   ]
  },
  {
   "cell_type": "code",
   "execution_count": 64,
   "metadata": {},
   "outputs": [],
   "source": [
    "import matplotlib.pyplot as plt"
   ]
  },
  {
   "cell_type": "code",
   "execution_count": 69,
   "metadata": {},
   "outputs": [
    {
     "data": {
      "text/plain": [
       "<matplotlib.legend.Legend at 0x1270d8c10>"
      ]
     },
     "execution_count": 69,
     "metadata": {},
     "output_type": "execute_result"
    },
    {
     "data": {
      "image/png": "[encoded data removed]",
      "text/plain": [
       "<Figure size 432x288 with 1 Axes>"
      ]
     },
     "metadata": {
      "needs_background": "light"
     },
     "output_type": "display_data"
    }
   ],
   "source": [
    "# calculate and plot monk-1 mean error w.r.t. parameters\n",
    "x = [0.3, 0.4, 0.5, 0.6, 0.7, 0.8]\n",
    "yp = []\n",
    "yo = []\n",
    "\n",
    "for i in x :\n",
    "    yp.append(meanerror(m.monk1, i, 100, m.monk1test)[0]) # mean error of prune tree\n",
    "    yo.append(meanerror(m.monk1, i, 100, m.monk1test)[1]) # mean error of original tree\n",
    "    \n",
    "plt.figure()\n",
    "plt.plot(x, yp, 'bo-', label='pruning tree')\n",
    "plt.plot(x, yo, 'ro-', label='original tree')\n",
    "plt.xlabel('parameter fraction')\n",
    "plt.ylabel('classification error on test sets')\n",
    "plt.title('Error to Fraction on MONK1 dataset, 100 runs')\n",
    "plt.legend()"
   ]
  },
  {
   "cell_type": "code",
   "execution_count": 70,
   "metadata": {},
   "outputs": [
    {
     "data": {
      "text/plain": [
       "<matplotlib.legend.Legend at 0x1271cba10>"
      ]
     },
     "execution_count": 70,
     "metadata": {},
     "output_type": "execute_result"
    },
    {
     "data": {
      "image/png": "[encoded data removed]",
      "text/plain": [
       "<Figure size 432x288 with 1 Axes>"
      ]
     },
     "metadata": {
      "needs_background": "light"
     },
     "output_type": "display_data"
    }
   ],
   "source": [
    "# calculate and plot monk-3 mean error w.r.t. parameters\n",
    "x = [0.3, 0.4, 0.5, 0.6, 0.7, 0.8]\n",
    "yp = []\n",
    "yo = []\n",
    "\n",
    "for i in x :\n",
    "    yp.append(meanerror(m.monk3, i, 100, m.monk3test)[0]) # mean error of prune tree\n",
    "    yo.append(meanerror(m.monk3, i, 100, m.monk3test)[1]) # mean error of original tree\n",
    "    \n",
    "plt.figure()\n",
    "plt.plot(x, yp, 'bo-', label='pruning tree')\n",
    "plt.plot(x, yo, 'ro-', label='original tree')\n",
    "plt.xlabel('parameter fraction')\n",
    "plt.ylabel('classification error on test sets')\n",
    "plt.title('Error to Fraction on MONK3 dataset, 100 runs')\n",
    "plt.legend()"
   ]
  },
  {
   "cell_type": "code",
   "execution_count": null,
   "metadata": {},
   "outputs": [],
   "source": []
  }
 ],
 "metadata": {
  "kernelspec": {
   "display_name": "Python 3",
   "language": "python",
   "name": "python3"
  },
  "language_info": {
   "codemirror_mode": {
    "name": "ipython",
    "version": 3
   },
   "file_extension": ".py",
   "mimetype": "text/x-python",
   "name": "python",
   "nbconvert_exporter": "python",
   "pygments_lexer": "ipython3",
   "version": "3.7.6"
  }
 },
 "nbformat": 4,
 "nbformat_minor": 4
}
