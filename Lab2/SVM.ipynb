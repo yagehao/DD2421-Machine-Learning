{
 "cells": [
  {
   "cell_type": "code",
   "execution_count": 182,
   "metadata": {},
   "outputs": [],
   "source": [
    "import numpy\n",
    "import random\n",
    "import math\n",
    "from scipy.optimize import minimize\n",
    "import matplotlib.pyplot as plt"
   ]
  },
  {
   "cell_type": "markdown",
   "metadata": {},
   "source": [
    "### Generating Test Data"
   ]
  },
  {
   "cell_type": "code",
   "execution_count": 183,
   "metadata": {},
   "outputs": [],
   "source": [
    "numpy.random.seed(100) #get the same random data\n",
    "\n",
    "classA = numpy.concatenate(\n",
    "    (numpy.random.randn(10,2) * 0.3 + [1.5,0.5],\n",
    "    numpy.random.randn(10,2) * 0.3 + [-1.5,0.5]))\n",
    "classB = numpy.random.randn(20,2) * 0.3 + [0.0, -0.5]\n",
    "\n",
    "inputs = numpy.concatenate((classA, classB)) \n",
    "targets = numpy.concatenate(\n",
    "    (numpy.ones(classA.shape[0]),\n",
    "    -numpy.ones(classB.shape[0]))) \n",
    "\n",
    "N = inputs.shape[0] #Number of rows (samples)\n",
    "\n",
    "permute = list(range(N))\n",
    "random.shuffle(permute)\n",
    "inputs = inputs[permute,:] #a Nx2 array, where each row contains the (x,y)-coordinates of a datapoint\n",
    "targets = targets[permute] #a Nx1 array which contains the classes, i.e. the ti values, encoded as (-1 or 1)"
   ]
  },
  {
   "cell_type": "code",
   "execution_count": 184,
   "metadata": {},
   "outputs": [
    {
     "name": "stdout",
     "output_type": "stream",
     "text": [
      "40\n"
     ]
    }
   ],
   "source": [
    "print(N)"
   ]
  },
  {
   "cell_type": "code",
   "execution_count": 185,
   "metadata": {
    "scrolled": false
   },
   "outputs": [
    {
     "name": "stdout",
     "output_type": "stream",
     "text": [
      "[[-1.90691971  0.13026965]\n",
      " [ 1.70181624  0.46867666]\n",
      " [ 0.225136   -0.8920977 ]\n",
      " [-0.35640528 -0.66492386]\n",
      " [-1.27486657  0.36321592]\n",
      " [ 0.97507036  0.60280412]\n",
      " [ 0.07135339 -0.49593544]\n",
      " [-0.29499303 -0.39274767]\n",
      " [ 0.03265904 -0.34765712]\n",
      " [-1.59787142  0.5167028 ]\n",
      " [ 1.44315125  0.57650043]\n",
      " [-0.02388337 -0.76691944]\n",
      " [ 1.32492148  0.74505412]\n",
      " [-1.2806999   0.90846684]\n",
      " [-0.26453952 -0.49440832]\n",
      " [-1.44464439  0.78112466]\n",
      " [ 1.36855931  0.16450453]\n",
      " [-0.55235649 -0.39017203]\n",
      " [ 1.79439624  0.65426565]\n",
      " [ 0.174172   -0.83135693]\n",
      " [-0.48407355 -0.05878584]\n",
      " [ 0.61038227 -0.66521432]\n",
      " [ 1.5663539   0.178987  ]\n",
      " [-1.14311332 -0.00718505]\n",
      " [ 0.18391166 -0.27913844]\n",
      " [ 0.00219437 -0.68388162]\n",
      " [-0.28201385 -0.74837971]\n",
      " [-0.16333175 -0.70045152]\n",
      " [ 1.34061589  0.80891981]\n",
      " [-0.09953314 -0.70676539]\n",
      " [-1.57556374  0.24726928]\n",
      " [-0.49065882 -0.81326296]\n",
      " [ 0.38992442 -1.01992869]\n",
      " [-1.72690569  0.7449362 ]\n",
      " [ 1.3625919   0.63054905]\n",
      " [ 0.30807643 -0.92965718]\n",
      " [ 1.84591074  0.42426919]\n",
      " [-0.2586682  -0.12515908]\n",
      " [-1.43328012  0.0670349 ]\n",
      " [-1.0143055   0.96248155]]\n"
     ]
    }
   ],
   "source": [
    "print(inputs)"
   ]
  },
  {
   "cell_type": "code",
   "execution_count": 186,
   "metadata": {},
   "outputs": [
    {
     "name": "stdout",
     "output_type": "stream",
     "text": [
      "[ 1.  1. -1. -1.  1.  1. -1. -1. -1.  1.  1. -1.  1.  1. -1.  1.  1. -1.\n",
      "  1. -1. -1. -1.  1.  1. -1. -1. -1. -1.  1. -1.  1. -1. -1.  1.  1. -1.\n",
      "  1. -1.  1.  1.]\n"
     ]
    }
   ],
   "source": [
    "print(targets)"
   ]
  },
  {
   "cell_type": "markdown",
   "metadata": {},
   "source": [
    "### Things to implement"
   ]
  },
  {
   "cell_type": "markdown",
   "metadata": {},
   "source": [
    "#### · A suitable kernel function"
   ]
  },
  {
   "cell_type": "code",
   "execution_count": 187,
   "metadata": {},
   "outputs": [],
   "source": [
    "def linear_kernel(xi,xj):\n",
    "    \"\"\"\n",
    "    kernel function using the linear kernel.\n",
    "    \n",
    "    arguments: two data points, xi and xj, in forms of 1x2 array, e.g. xi=array([a b]).\n",
    "    return: scalar product, K, between xi and xj.\n",
    "    \"\"\"\n",
    "    \n",
    "    K = numpy.dot(xi,xj)\n",
    "    return K"
   ]
  },
  {
   "cell_type": "code",
   "execution_count": 188,
   "metadata": {},
   "outputs": [],
   "source": [
    "def poly_kernel(xi,xj,p):\n",
    "    \"\"\"\n",
    "    kernel function using polynomial kernel.\n",
    "    \n",
    "    arguments: two data points, xi and xj, in forms of 1x2 array, e.g. xi=array([a b]).\n",
    "                p, positive integer, degree of polynomials.\n",
    "    return: scalar product, K, between xi and xj.\n",
    "    \"\"\"\n",
    "    \n",
    "    K = numpy.power((numpy.dot(xi,xj) + 1), p)\n",
    "    return K"
   ]
  },
  {
   "cell_type": "code",
   "execution_count": 189,
   "metadata": {},
   "outputs": [],
   "source": [
    "def RBF_kernel(xi,xj,sigma):\n",
    "    \"\"\"\n",
    "    kernel function using RBF kernel.\n",
    "    \n",
    "    arguments: two data points, xi and xj, in forms of 1x2 array, e.g. xi=array([a b]).\n",
    "                sigma, smoothness of the boundary.\n",
    "    return: scalar product, K, between xi and xj.\n",
    "    \"\"\"\n",
    "    \n",
    "    norm = numpy.linalg.norm(numpy.subtract(xi,xj))\n",
    "    num = numpy.power(norm, 2)\n",
    "    den = 2 * numpy.power(sigma, 2)\n",
    "    \n",
    "    K = numpy.power(numpy.e, (-num/den))\n",
    "    return K"
   ]
  },
  {
   "cell_type": "markdown",
   "metadata": {},
   "source": [
    "#### · Implement the function objective"
   ]
  },
  {
   "cell_type": "code",
   "execution_count": 190,
   "metadata": {},
   "outputs": [],
   "source": [
    "def pre_compute(inputs=inputs, targets=targets):\n",
    "    \"\"\"\n",
    "    pre-compute NxN matrix P, where P_ij = ti*tj*Kernel(xi,xj).\n",
    "    \n",
    "    arguments: data points 'inputs', classification result 'targets'.\n",
    "    return: P matrix.\n",
    "    \"\"\"\n",
    "\n",
    "    P = numpy.zeros((N,N))\n",
    "\n",
    "    for i in range(N):\n",
    "        for j in range(N):\n",
    "            P[i][j] = targets[i]*targets[j]*linear_kernel(inputs[i], inputs[j])\n",
    "    return P"
   ]
  },
  {
   "cell_type": "code",
   "execution_count": 191,
   "metadata": {},
   "outputs": [
    {
     "name": "stdout",
     "output_type": "stream",
     "text": [
      "[0. 0. 0. 0. 0. 0. 0. 0. 0. 0. 0. 0. 0. 0. 0. 0. 0. 0. 0. 0. 0. 0. 0. 0.\n",
      " 0. 0. 0. 0. 0. 0. 0. 0. 0. 0. 0. 0. 0. 0. 0. 0.]\n"
     ]
    }
   ],
   "source": [
    "#initialize alpha as a vector of zeros\n",
    "start = numpy.zeros(N)\n",
    "print(start)"
   ]
  },
  {
   "cell_type": "code",
   "execution_count": 192,
   "metadata": {},
   "outputs": [],
   "source": [
    "def objective(alpha):\n",
    "    \"\"\"\n",
    "    dual formulation, transformed from the optimization problem.\n",
    "    \n",
    "    arguments: alpha, 1xN vector.\n",
    "    return: a scalar value, obj.\n",
    "    \"\"\"\n",
    "    \n",
    "    P = pre_compute()\n",
    "    \n",
    "    #alphaT = alpha.reshape(alpha.shape[0],1) #transpose alpha to Nx1 array\n",
    "    #A = numpy.dot(alphaT, numpy.transpose(alphaT)) #A_ij = alpha_i * alpha_j\n",
    "    #print(A)\n",
    "    \n",
    "    obj = 0.5 * numpy.dot(alpha, numpy.dot(alpha,P)) - numpy.sum(alpha)\n",
    "    return obj"
   ]
  },
  {
   "cell_type": "markdown",
   "metadata": {},
   "source": [
    "#### · implement the function zerofun"
   ]
  },
  {
   "cell_type": "code",
   "execution_count": 193,
   "metadata": {},
   "outputs": [],
   "source": [
    "def zerofun(alpha, targets=targets):\n",
    "    \"\"\"\n",
    "    the equality constraint, sum(i)(alpha_i * ti) = 0.\n",
    "    \n",
    "    arguments: alpha, 1xN vector.\n",
    "    return: a scalar value,zf = sum(i)(alpha_i * ti).\n",
    "    \"\"\"\n",
    "    \n",
    "    zf = numpy.dot(alpha,targets)\n",
    "    return zf"
   ]
  },
  {
   "cell_type": "markdown",
   "metadata": {},
   "source": [
    "#### · call minimize"
   ]
  },
  {
   "cell_type": "code",
   "execution_count": 194,
   "metadata": {},
   "outputs": [],
   "source": [
    "C = 100 #choose arbitrary upper bound C for slack variables\n",
    "B = [(0, C) for b in range(N)]\n",
    "\n",
    "XC = {'type':'eq', 'fun':zerofun}\n",
    "\n",
    "ret = minimize(objective, start, bounds=B, constraints=XC)\n",
    "alpha = ret['x']"
   ]
  },
  {
   "cell_type": "code",
   "execution_count": 195,
   "metadata": {},
   "outputs": [
    {
     "name": "stdout",
     "output_type": "stream",
     "text": [
      "[0.00000000e+00 1.80708342e-13 0.00000000e+00 0.00000000e+00\n",
      " 2.34254284e-13 0.00000000e+00 3.38714548e-13 1.61452098e-12\n",
      " 2.13832783e-12 0.00000000e+00 0.00000000e+00 0.00000000e+00\n",
      " 0.00000000e+00 0.00000000e+00 4.44217376e-13 0.00000000e+00\n",
      " 2.90838592e+01 1.66797267e-12 3.03332126e-14 0.00000000e+00\n",
      " 1.00000000e+02 0.00000000e+00 0.00000000e+00 7.98612078e+01\n",
      " 0.00000000e+00 0.00000000e+00 0.00000000e+00 0.00000000e+00\n",
      " 0.00000000e+00 0.00000000e+00 1.52433924e-12 0.00000000e+00\n",
      " 0.00000000e+00 0.00000000e+00 0.00000000e+00 0.00000000e+00\n",
      " 5.17743015e-13 8.94506701e+00 0.00000000e+00 0.00000000e+00]\n"
     ]
    }
   ],
   "source": [
    "print(alpha)"
   ]
  },
  {
   "cell_type": "markdown",
   "metadata": {},
   "source": [
    "#### · Extract the non-zero alpha values"
   ]
  },
  {
   "cell_type": "code",
   "execution_count": 196,
   "metadata": {},
   "outputs": [],
   "source": [
    "def extract(alpha=alpha):\n",
    "    \"\"\"\n",
    "    extract the non-zero alpha values.\n",
    "    \n",
    "    arguments: list of alpha vluaes, alpha.\n",
    "    return: list of non-zero alpha, x datapoints corresponding to non-zero alpha, targets corresponding to non-zero alpha.\n",
    "    \"\"\"\n",
    "    \n",
    "    #nzalpha = [] #list of non-zero alpha\n",
    "    #nzinputs = [] #list of x datapoints corresponding to non-zero alpha\n",
    "    #nztargets = [] #list of targets corresponding to non-zero alpha\n",
    "    nzlist = []\n",
    "    \n",
    "    for i in range(N):\n",
    "        if abs(alpha[i])>1e-05:\n",
    "            #nzalpha.append(alpha[i])\n",
    "            #nzinputs.append(inputs[i])\n",
    "            #nztargets.append(targets[i])\n",
    "            nzlist.append([alpha[i], inputs[i], targets[i]])\n",
    "        \n",
    "    #nzlist = [nzalpha, nzinputs, nztargets]  \n",
    "    return nzlist"
   ]
  },
  {
   "cell_type": "code",
   "execution_count": 197,
   "metadata": {},
   "outputs": [
    {
     "data": {
      "text/plain": [
       "[[29.083859187113354, array([1.36855931, 0.16450453]), 1.0],\n",
       " [100.0, array([-0.48407355, -0.05878584]), -1.0],\n",
       " [79.86120781878607, array([-1.14311332, -0.00718505]), 1.0],\n",
       " [8.945067005806253, array([-0.2586682 , -0.12515908]), -1.0]]"
      ]
     },
     "execution_count": 197,
     "metadata": {},
     "output_type": "execute_result"
    }
   ],
   "source": [
    "extract()"
   ]
  },
  {
   "cell_type": "markdown",
   "metadata": {},
   "source": [
    "#### · Calculate threshold value, b"
   ]
  },
  {
   "cell_type": "code",
   "execution_count": 198,
   "metadata": {},
   "outputs": [],
   "source": [
    "def bvalue(sv, tsv, nzlist=extract()):\n",
    "    \"\"\"\n",
    "    calculate threshold value for any supporting vector, sv.\n",
    "    \n",
    "    arguments: sv, any supporting vector. sv=extract()[i][1]\n",
    "                tsv, target of the supporitng vector. tsv=extract()[i][2]\n",
    "                nzlist = list of [alpha[i], inputs[i], targets[i]]\n",
    "    return: b value.\n",
    "    \"\"\"\n",
    "    \n",
    "    b = 0\n",
    "    \n",
    "    for i in range(len(nzlist)):\n",
    "        b += nzlist[i][0] * nzlist[i][2] * linear_kernel(sv, nzlist[i][1])\n",
    "        \n",
    "    b = b - tsv\n",
    "    return b"
   ]
  },
  {
   "cell_type": "code",
   "execution_count": 199,
   "metadata": {},
   "outputs": [
    {
     "data": {
      "text/plain": [
       "-0.20478666111911092"
      ]
     },
     "execution_count": 199,
     "metadata": {},
     "output_type": "execute_result"
    }
   ],
   "source": [
    "sv=extract()[0][1]\n",
    "tsv=extract()[0][2]\n",
    "bvalue(sv, tsv)"
   ]
  },
  {
   "cell_type": "markdown",
   "metadata": {},
   "source": [
    "#### · Implement the indicator function"
   ]
  },
  {
   "cell_type": "code",
   "execution_count": 200,
   "metadata": {},
   "outputs": [],
   "source": [
    "def indicator(x, y, sv=extract()[0][1], tsv=extract()[0][2], nzlist=extract()):\n",
    "    \"\"\"\n",
    "    the indicator function.\n",
    "    \n",
    "    arguments: sv, supporting vector point. tsv, target value of supporting vector. \n",
    "                nzlist = list of [alpha[i], inputs[i], targets[i]]\n",
    "    return: indicate value of supporting vector s.\n",
    "    \"\"\"\n",
    "    \n",
    "    ind = 0\n",
    "    \n",
    "    for i in range(len(nzlist[0])):\n",
    "        ind += nzlist[i][0] * nzlist[i][2] * linear_kernel([x,y], nzlist[i][1])\n",
    "    \n",
    "    ind = ind - bvalue(sv, tsv)\n",
    "    return ind"
   ]
  },
  {
   "cell_type": "markdown",
   "metadata": {},
   "source": [
    "### Plotting"
   ]
  },
  {
   "cell_type": "code",
   "execution_count": 201,
   "metadata": {
    "scrolled": false
   },
   "outputs": [
    {
     "data": {
      "image/png": "[encoded data removed]",
      "text/plain": [
       "<Figure size 432x288 with 1 Axes>"
      ]
     },
     "metadata": {
      "needs_background": "light"
     },
     "output_type": "display_data"
    }
   ],
   "source": [
    "#plot data points\n",
    "plt.plot([p[0] for p in classA],\n",
    "         [p[1] for p in classA],\n",
    "         'b.')\n",
    "plt.plot([p[0] for p in classB],\n",
    "         [p[1] for p in classB],\n",
    "         'r.')\n",
    "\n",
    "#contour plot\n",
    "xgrid=numpy.linspace(-5, 5)\n",
    "ygrid=numpy.linspace(-4, 4)\n",
    "\n",
    "grid=numpy.array([[indicator(x, y)\n",
    "                  for x in xgrid]\n",
    "                 for y in ygrid])\n",
    "\n",
    "plt.contour(xgrid, ygrid, grid,\n",
    "           (-1.0, 0.0, 1.0),\n",
    "           colors=('red', 'black', 'blue'),\n",
    "           linewidths=(1, 3, 1))\n",
    "\n",
    "plt.xlabel('x')\n",
    "plt.ylabel('y')\n",
    "plt.title('SVM Classification Result with Linear Kernel, c=100')\n",
    "\n",
    "plt.axis('equal') #force same scale on both axes\n",
    "plt.savefig('svmplot5-2.png') #save a copy in a file\n",
    "plt.show() #show the plot on the screen"
   ]
  },
  {
   "cell_type": "code",
   "execution_count": null,
   "metadata": {},
   "outputs": [],
   "source": []
  }
 ],
 "metadata": {
  "kernelspec": {
   "display_name": "Python 3",
   "language": "python",
   "name": "python3"
  },
  "language_info": {
   "codemirror_mode": {
    "name": "ipython",
    "version": 3
   },
   "file_extension": ".py",
   "mimetype": "text/x-python",
   "name": "python",
   "nbconvert_exporter": "python",
   "pygments_lexer": "ipython3",
   "version": "3.7.6"
  }
 },
 "nbformat": 4,
 "nbformat_minor": 4
}
