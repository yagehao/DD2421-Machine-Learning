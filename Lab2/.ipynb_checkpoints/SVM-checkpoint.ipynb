{
 "cells": [
  {
   "cell_type": "code",
   "execution_count": 1,
   "metadata": {},
   "outputs": [],
   "source": [
    "import numpy\n",
    "import random\n",
    "import math\n",
    "from scipy.optimize import minimize\n",
    "import matplotlib.pyplot as plt"
   ]
  },
  {
   "cell_type": "markdown",
   "metadata": {},
   "source": [
    "### Generating Test Data"
   ]
  },
  {
   "cell_type": "code",
   "execution_count": 2,
   "metadata": {},
   "outputs": [],
   "source": [
    "numpy.random.seed(100) #get the same random data\n",
    "\n",
    "classA = numpy.concatenate(\n",
    "    (numpy.random.randn(10,2) * 0.2 + [1.5,0.5],\n",
    "    numpy.random.randn(10,2) * 0.2 + [-1.5,0.5]))\n",
    "classB = numpy.random.randn(20,2) * 0.2 + [0.0, 0.5]\n",
    "\n",
    "inputs = numpy.concatenate((classA, classB)) \n",
    "targets = numpy.concatenate(\n",
    "    (numpy.ones(classA.shape[0]),\n",
    "    -numpy.ones(classB.shape[0]))) \n",
    "\n",
    "N = inputs.shape[0] #Number of rows (samples)\n",
    "\n",
    "permute = list(range(N))\n",
    "random.shuffle(permute)\n",
    "inputs = inputs[permute,:] #a Nx2 array, where each row contains the (x,y)-coordinates of a datapoint\n",
    "targets = targets[permute] #a Nx1 array which contains the classes, i.e. the ti values, encoded as (-1 or 1)"
   ]
  },
  {
   "cell_type": "code",
   "execution_count": 3,
   "metadata": {},
   "outputs": [
    {
     "name": "stdout",
     "output_type": "stream",
     "text": [
      "40\n"
     ]
    }
   ],
   "source": [
    "print(N)"
   ]
  },
  {
   "cell_type": "code",
   "execution_count": 4,
   "metadata": {
    "scrolled": false
   },
   "outputs": [
    {
     "name": "stdout",
     "output_type": "stream",
     "text": [
      "[[ 1.38328099e+00  6.63369414e-01]\n",
      " [ 2.17726936e-02  6.01561918e-01]\n",
      " [-1.26207555e+00  1.61876635e-01]\n",
      " [-1.35379993e+00  7.72311225e-01]\n",
      " [-1.65127046e+00  6.63290802e-01]\n",
      " [-1.34991105e+00  4.08810615e-01]\n",
      " [-3.27105880e-01  2.91158024e-01]\n",
      " [-1.45552008e+00  2.11356601e-01]\n",
      " [ 2.05384288e-01  2.13561878e-01]\n",
      " [-1.56524761e+00  5.11135203e-01]\n",
      " [ 1.69626416e+00  6.02843768e-01]\n",
      " [-6.63554270e-02  3.62156404e-01]\n",
      " [-1.77127981e+00  2.53513097e-01]\n",
      " [ 1.40839460e+00  5.87032698e-01]\n",
      " [-1.59222492e-02  3.22053704e-01]\n",
      " [ 1.46291265e-03  3.77412253e-01]\n",
      " [ 1.54423593e+00  2.85991334e-01]\n",
      " [-2.37603519e-01  3.90050761e-01]\n",
      " [ 1.16114667e-01  2.79095381e-01]\n",
      " [ 1.63454416e+00  4.79117771e-01]\n",
      " [-3.68237660e-01  5.73218645e-01]\n",
      " [ 1.73060716e+00  4.49512793e-01]\n",
      " [-1.76359678e-01  5.03727790e-01]\n",
      " [-1.17620367e+00  8.08321035e-01]\n",
      " [ 1.46210083e+00  5.51000289e-01]\n",
      " [ 4.06921512e-01  3.89857118e-01]\n",
      " [ 1.22607776e-01  6.47241043e-01]\n",
      " [ 2.59949615e-01  1.53380875e-01]\n",
      " [-1.55037583e+00  3.31512852e-01]\n",
      " [-1.46309626e+00  6.87416440e-01]\n",
      " [ 1.41237288e+00  2.76336351e-01]\n",
      " [ 1.15004691e+00  5.68536081e-01]\n",
      " [-3.22715701e-01  7.94142773e-01]\n",
      " [ 4.75689244e-02  5.02709710e-01]\n",
      " [-1.88009232e-01  3.34413527e-01]\n",
      " [-1.96662020e-01  5.71501551e-01]\n",
      " [-1.08887832e-01  3.66365653e-01]\n",
      " [ 1.50090666e-01  2.38601532e-01]\n",
      " [ 1.39374392e+00  7.05946537e-01]\n",
      " [-1.72445469e-01  7.49893949e-01]]\n"
     ]
    }
   ],
   "source": [
    "print(inputs)"
   ]
  },
  {
   "cell_type": "code",
   "execution_count": 5,
   "metadata": {},
   "outputs": [
    {
     "name": "stdout",
     "output_type": "stream",
     "text": [
      "[ 1. -1.  1.  1.  1.  1. -1.  1. -1.  1.  1. -1.  1.  1. -1. -1.  1. -1.\n",
      " -1.  1. -1.  1. -1.  1.  1. -1. -1. -1.  1.  1.  1.  1. -1. -1. -1. -1.\n",
      " -1. -1.  1. -1.]\n"
     ]
    }
   ],
   "source": [
    "print(targets)"
   ]
  },
  {
   "cell_type": "markdown",
   "metadata": {},
   "source": [
    "### Things to implement"
   ]
  },
  {
   "cell_type": "markdown",
   "metadata": {},
   "source": [
    "#### · A suitable kernel function"
   ]
  },
  {
   "cell_type": "code",
   "execution_count": 6,
   "metadata": {},
   "outputs": [],
   "source": [
    "def linear_kernel(xi,xj):\n",
    "    \"\"\"\n",
    "    kernel function using the linear kernel.\n",
    "    \n",
    "    arguments: two data points, xi and xj, in forms of 1x2 array, e.g. xi=array([a b]).\n",
    "    return: scalar product, K, between xi and xj.\n",
    "    \"\"\"\n",
    "    \n",
    "    K = numpy.dot(xi,xj)\n",
    "    return K"
   ]
  },
  {
   "cell_type": "code",
   "execution_count": 7,
   "metadata": {},
   "outputs": [],
   "source": [
    "def poly_kernel(xi,xj,p):\n",
    "    \"\"\"\n",
    "    kernel function using polynomial kernel.\n",
    "    \n",
    "    arguments: two data points, xi and xj, in forms of 1x2 array, e.g. xi=array([a b]).\n",
    "                p, positive integer, degree of polynomials.\n",
    "    return: scalar product, K, between xi and xj.\n",
    "    \"\"\"\n",
    "    \n",
    "    K = numpy.power((numpy.dot(xi,xj) + 1), p)\n",
    "    return K"
   ]
  },
  {
   "cell_type": "code",
   "execution_count": 8,
   "metadata": {},
   "outputs": [],
   "source": [
    "def RBF_kernel(xi,xj,sigma):\n",
    "    \"\"\"\n",
    "    kernel function using RBF kernel.\n",
    "    \n",
    "    arguments: two data points, xi and xj, in forms of 1x2 array, e.g. xi=array([a b]).\n",
    "                sigma, smoothness of the boundary.\n",
    "    return: scalar product, K, between xi and xj.\n",
    "    \"\"\"\n",
    "    \n",
    "    norm = numpy.linalg.norm(numpy.subtract(xi,xj))\n",
    "    num = numpy.power(norm, 2)\n",
    "    den = 2 * numpy.power(sigma, 2)\n",
    "    \n",
    "    K = numpy.power(numpy.e, (-num/den))\n",
    "    return K"
   ]
  },
  {
   "cell_type": "markdown",
   "metadata": {},
   "source": [
    "#### · Implement the function objective"
   ]
  },
  {
   "cell_type": "code",
   "execution_count": 9,
   "metadata": {},
   "outputs": [],
   "source": [
    "def pre_compute(inputs=inputs, targets=targets):\n",
    "    \"\"\"\n",
    "    pre-compute NxN matrix P, where P_ij = ti*tj*Kernel(xi,xj).\n",
    "    \n",
    "    arguments: data points 'inputs', classification result 'targets'.\n",
    "    return: P matrix.\n",
    "    \"\"\"\n",
    "\n",
    "    P = numpy.zeros((N,N))\n",
    "\n",
    "    for i in range(N):\n",
    "        for j in range(N):\n",
    "            P[i][j] = targets[i]*targets[j]*RBF_kernel(inputs[i], inputs[j], 2)\n",
    "    return P"
   ]
  },
  {
   "cell_type": "code",
   "execution_count": 10,
   "metadata": {},
   "outputs": [
    {
     "name": "stdout",
     "output_type": "stream",
     "text": [
      "[0. 0. 0. 0. 0. 0. 0. 0. 0. 0. 0. 0. 0. 0. 0. 0. 0. 0. 0. 0. 0. 0. 0. 0.\n",
      " 0. 0. 0. 0. 0. 0. 0. 0. 0. 0. 0. 0. 0. 0. 0. 0.]\n"
     ]
    }
   ],
   "source": [
    "#initialize alpha as a vector of zeros\n",
    "start = numpy.zeros(N)\n",
    "print(start)"
   ]
  },
  {
   "cell_type": "code",
   "execution_count": 11,
   "metadata": {},
   "outputs": [],
   "source": [
    "def objective(alpha):\n",
    "    \"\"\"\n",
    "    dual formulation, transformed from the optimization problem.\n",
    "    \n",
    "    arguments: alpha, 1xN vector.\n",
    "    return: a scalar value, obj.\n",
    "    \"\"\"\n",
    "    \n",
    "    P = pre_compute()\n",
    "    \n",
    "    #alphaT = alpha.reshape(alpha.shape[0],1) #transpose alpha to Nx1 array\n",
    "    #A = numpy.dot(alphaT, numpy.transpose(alphaT)) #A_ij = alpha_i * alpha_j\n",
    "    #print(A)\n",
    "    \n",
    "    obj = 0.5 * numpy.dot(alpha, numpy.dot(alpha,P)) - numpy.sum(alpha)\n",
    "    return obj"
   ]
  },
  {
   "cell_type": "markdown",
   "metadata": {},
   "source": [
    "#### · implement the function zerofun"
   ]
  },
  {
   "cell_type": "code",
   "execution_count": 12,
   "metadata": {},
   "outputs": [],
   "source": [
    "def zerofun(alpha, targets=targets):\n",
    "    \"\"\"\n",
    "    the equality constraint, sum(i)(alpha_i * ti) = 0.\n",
    "    \n",
    "    arguments: alpha, 1xN vector.\n",
    "    return: a scalar value,zf = sum(i)(alpha_i * ti).\n",
    "    \"\"\"\n",
    "    \n",
    "    zf = numpy.dot(alpha,targets)\n",
    "    return zf"
   ]
  },
  {
   "cell_type": "markdown",
   "metadata": {},
   "source": [
    "#### · call minimize"
   ]
  },
  {
   "cell_type": "code",
   "execution_count": 13,
   "metadata": {},
   "outputs": [],
   "source": [
    "C = 10000 #choose arbitrary upper bound C for slack variables\n",
    "B = [(0, C) for b in range(N)]\n",
    "\n",
    "XC = {'type':'eq', 'fun':zerofun}\n",
    "\n",
    "ret = minimize(objective, start, bounds=B, constraints=XC)\n",
    "alpha = ret['x']"
   ]
  },
  {
   "cell_type": "code",
   "execution_count": 14,
   "metadata": {},
   "outputs": [
    {
     "name": "stdout",
     "output_type": "stream",
     "text": [
      "[ 6529.46631191  9761.09961055  9922.09310497  6008.6823986\n",
      "  6226.81536084  8309.65512562  6028.8166861   9995.07821325\n",
      "  5470.50768699  8878.37077477  7028.62081282  7266.83871862\n",
      "  9780.42819763  6382.68042762  6898.63356032  9499.2328536\n",
      "  9267.33952673  7017.31933683  6551.72699377  7561.12802058\n",
      "  8422.19309114  7126.85090122  7868.49961527  5555.26696137\n",
      "  7021.70627846  6970.17670091  9873.78515172  5122.93483451\n",
      " 10000.          6467.85335766  9986.41877242  7359.09557041\n",
      "  9934.17942864  8973.30401622  6944.20526174  9342.71951634\n",
      "  7332.6472646   6552.50828558  6423.77760015  9999.99910358]\n"
     ]
    }
   ],
   "source": [
    "print(alpha)"
   ]
  },
  {
   "cell_type": "markdown",
   "metadata": {},
   "source": [
    "#### · Extract the non-zero alpha values"
   ]
  },
  {
   "cell_type": "code",
   "execution_count": 15,
   "metadata": {},
   "outputs": [],
   "source": [
    "def extract(alpha=alpha):\n",
    "    \"\"\"\n",
    "    extract the non-zero alpha values.\n",
    "    \n",
    "    arguments: list of alpha vluaes, alpha.\n",
    "    return: list of non-zero alpha, x datapoints corresponding to non-zero alpha, targets corresponding to non-zero alpha.\n",
    "    \"\"\"\n",
    "    \n",
    "    #nzalpha = [] #list of non-zero alpha\n",
    "    #nzinputs = [] #list of x datapoints corresponding to non-zero alpha\n",
    "    #nztargets = [] #list of targets corresponding to non-zero alpha\n",
    "    nzlist = []\n",
    "    \n",
    "    for i in range(N):\n",
    "        if abs(alpha[i])>1e-05:\n",
    "            #nzalpha.append(alpha[i])\n",
    "            #nzinputs.append(inputs[i])\n",
    "            #nztargets.append(targets[i])\n",
    "            nzlist.append([alpha[i], inputs[i], targets[i]])\n",
    "        \n",
    "    #nzlist = [nzalpha, nzinputs, nztargets]  \n",
    "    return nzlist"
   ]
  },
  {
   "cell_type": "code",
   "execution_count": 16,
   "metadata": {},
   "outputs": [
    {
     "data": {
      "text/plain": [
       "[[6529.46631190804, array([1.38328099, 0.66336941]), 1.0],\n",
       " [9761.099610549756, array([0.02177269, 0.60156192]), -1.0],\n",
       " [9922.093104968952, array([-1.26207555,  0.16187663]), 1.0],\n",
       " [6008.682398599504, array([-1.35379993,  0.77231123]), 1.0],\n",
       " [6226.815360835737, array([-1.65127046,  0.6632908 ]), 1.0],\n",
       " [8309.65512561557, array([-1.34991105,  0.40881061]), 1.0],\n",
       " [6028.816686103732, array([-0.32710588,  0.29115802]), -1.0],\n",
       " [9995.078213253939, array([-1.45552008,  0.2113566 ]), 1.0],\n",
       " [5470.507686985996, array([0.20538429, 0.21356188]), -1.0],\n",
       " [8878.37077476516, array([-1.56524761,  0.5111352 ]), 1.0],\n",
       " [7028.620812819866, array([1.69626416, 0.60284377]), 1.0],\n",
       " [7266.838718622819, array([-0.06635543,  0.3621564 ]), -1.0],\n",
       " [9780.428197632771, array([-1.77127981,  0.2535131 ]), 1.0],\n",
       " [6382.680427617089, array([1.4083946, 0.5870327]), 1.0],\n",
       " [6898.6335603231055, array([-0.01592225,  0.3220537 ]), -1.0],\n",
       " [9499.23285359616, array([0.00146291, 0.37741225]), -1.0],\n",
       " [9267.339526730617, array([1.54423593, 0.28599133]), 1.0],\n",
       " [7017.319336830735, array([-0.23760352,  0.39005076]), -1.0],\n",
       " [6551.726993774923, array([0.11611467, 0.27909538]), -1.0],\n",
       " [7561.128020584447, array([1.63454416, 0.47911777]), 1.0],\n",
       " [8422.19309113586, array([-0.36823766,  0.57321865]), -1.0],\n",
       " [7126.850901220663, array([1.73060716, 0.44951279]), 1.0],\n",
       " [7868.49961526512, array([-0.17635968,  0.50372779]), -1.0],\n",
       " [5555.2669613731605, array([-1.17620367,  0.80832103]), 1.0],\n",
       " [7021.706278462954, array([1.46210083, 0.55100029]), 1.0],\n",
       " [6970.176700905461, array([0.40692151, 0.38985712]), -1.0],\n",
       " [9873.78515171913, array([0.12260778, 0.64724104]), -1.0],\n",
       " [5122.934834512628, array([0.25994961, 0.15338088]), -1.0],\n",
       " [10000.0, array([-1.55037583,  0.33151285]), 1.0],\n",
       " [6467.853357661614, array([-1.46309626,  0.68741644]), 1.0],\n",
       " [9986.418772419034, array([1.41237288, 0.27633635]), 1.0],\n",
       " [7359.095570408423, array([1.15004691, 0.56853608]), 1.0],\n",
       " [9934.179428635682, array([-0.3227157 ,  0.79414277]), -1.0],\n",
       " [8973.304016220965, array([0.04756892, 0.50270971]), -1.0],\n",
       " [6944.20526173767, array([-0.18800923,  0.33441353]), -1.0],\n",
       " [9342.719516340288, array([-0.19666202,  0.57150155]), -1.0],\n",
       " [7332.64726460397, array([-0.10888783,  0.36636565]), -1.0],\n",
       " [6552.508285578164, array([0.15009067, 0.23860153]), -1.0],\n",
       " [6423.777600148042, array([1.39374392, 0.70594654]), 1.0],\n",
       " [9999.999103583408, array([-0.17244547,  0.74989395]), -1.0]]"
      ]
     },
     "execution_count": 16,
     "metadata": {},
     "output_type": "execute_result"
    }
   ],
   "source": [
    "extract()"
   ]
  },
  {
   "cell_type": "markdown",
   "metadata": {},
   "source": [
    "#### · Calculate threshold value, b"
   ]
  },
  {
   "cell_type": "code",
   "execution_count": 17,
   "metadata": {},
   "outputs": [],
   "source": [
    "def bvalue(sv, tsv, nzlist=extract()):\n",
    "    \"\"\"\n",
    "    calculate threshold value for any supporting vector, sv.\n",
    "    \n",
    "    arguments: sv, any supporting vector. sv=extract()[i][1]\n",
    "                tsv, target of the supporitng vector. tsv=extract()[i][2]\n",
    "                nzlist = list of [alpha[i], inputs[i], targets[i]]\n",
    "    return: b value.\n",
    "    \"\"\"\n",
    "    \n",
    "    b = 0\n",
    "    \n",
    "    for i in range(len(nzlist)):\n",
    "        b += nzlist[i][0] * nzlist[i][2] * RBF_kernel(sv, nzlist[i][1], 2)\n",
    "        \n",
    "    b = b - tsv\n",
    "    return b"
   ]
  },
  {
   "cell_type": "code",
   "execution_count": 18,
   "metadata": {},
   "outputs": [
    {
     "data": {
      "text/plain": [
       "0.589129202931872"
      ]
     },
     "execution_count": 18,
     "metadata": {},
     "output_type": "execute_result"
    }
   ],
   "source": [
    "sv=extract()[0][1]\n",
    "tsv=extract()[0][2]\n",
    "bvalue(sv, tsv)"
   ]
  },
  {
   "cell_type": "markdown",
   "metadata": {},
   "source": [
    "#### · Implement the indicator function"
   ]
  },
  {
   "cell_type": "code",
   "execution_count": 19,
   "metadata": {},
   "outputs": [],
   "source": [
    "def indicator(x, y, sv=extract()[0][1], tsv=extract()[0][2], nzlist=extract()):\n",
    "    \"\"\"\n",
    "    the indicator function.\n",
    "    \n",
    "    arguments: sv, supporting vector point. tsv, target value of supporting vector. \n",
    "                nzlist = list of [alpha[i], inputs[i], targets[i]]\n",
    "    return: indicate value of supporting vector s.\n",
    "    \"\"\"\n",
    "    \n",
    "    ind = 0\n",
    "    \n",
    "    for i in range(len(nzlist[0])):\n",
    "        ind += nzlist[i][0] * nzlist[i][2] * RBF_kernel([x,y], nzlist[i][1], 2)\n",
    "    \n",
    "    ind = ind - bvalue(sv, tsv)\n",
    "    return ind"
   ]
  },
  {
   "cell_type": "markdown",
   "metadata": {},
   "source": [
    "### Plotting"
   ]
  },
  {
   "cell_type": "code",
   "execution_count": 20,
   "metadata": {
    "scrolled": false
   },
   "outputs": [
    {
     "data": {
      "image/png": "[encoded data removed]",
      "text/plain": [
       "<Figure size 432x288 with 1 Axes>"
      ]
     },
     "metadata": {
      "needs_background": "light"
     },
     "output_type": "display_data"
    }
   ],
   "source": [
    "#plot data points\n",
    "plt.plot([p[0] for p in classA],\n",
    "         [p[1] for p in classA],\n",
    "         'b.')\n",
    "plt.plot([p[0] for p in classB],\n",
    "         [p[1] for p in classB],\n",
    "         'r.')\n",
    "\n",
    "#contour plot\n",
    "xgrid=numpy.linspace(-5, 5)\n",
    "ygrid=numpy.linspace(-4, 4)\n",
    "\n",
    "grid=numpy.array([[indicator(x, y)\n",
    "                  for x in xgrid]\n",
    "                 for y in ygrid])\n",
    "\n",
    "plt.contour(xgrid, ygrid, grid,\n",
    "           (-1.0, 0.0, 1.0),\n",
    "           colors=('red', 'black', 'blue'),\n",
    "           linewidths=(1, 3, 1))\n",
    "\n",
    "plt.xlabel('x')\n",
    "plt.ylabel('y')\n",
    "plt.title('SVM Classification Result with RBF Kernel, sigma=2')\n",
    "\n",
    "plt.axis('equal') #force same scale on both axes\n",
    "plt.savefig('svmplot2-9.png') #save a copy in a file\n",
    "plt.show() #show the plot on the screen"
   ]
  },
  {
   "cell_type": "code",
   "execution_count": null,
   "metadata": {},
   "outputs": [],
   "source": []
  }
 ],
 "metadata": {
  "kernelspec": {
   "display_name": "Python 3",
   "language": "python",
   "name": "python3"
  },
  "language_info": {
   "codemirror_mode": {
    "name": "ipython",
    "version": 3
   },
   "file_extension": ".py",
   "mimetype": "text/x-python",
   "name": "python",
   "nbconvert_exporter": "python",
   "pygments_lexer": "ipython3",
   "version": "3.7.6"
  }
 },
 "nbformat": 4,
 "nbformat_minor": 4
}
